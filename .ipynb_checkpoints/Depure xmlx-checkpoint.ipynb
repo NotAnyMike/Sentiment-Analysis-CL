{
 "cells": [
  {
   "cell_type": "markdown",
   "metadata": {},
   "source": [
    "# Clean the xml\n",
    "## What does \"clean\" mean?\n",
    "* remove repetitions\n",
    "* add a column retweet called `rt?`\n",
    "* add column number of @ called `#@`\n",
    "* remove urls\n",
    "* add column called `original` if there is no other tweet like it"
   ]
  },
  {
   "cell_type": "markdown",
   "metadata": {},
   "source": [
    "# Run this only once"
   ]
  },
  {
   "cell_type": "code",
   "execution_count": null,
   "metadata": {
    "collapsed": true
   },
   "outputs": [],
   "source": [
    "!pip install pandas\n",
    "!pip instal numpy"
   ]
  },
  {
   "cell_type": "markdown",
   "metadata": {},
   "source": [
    "# Importing libraries"
   ]
  },
  {
   "cell_type": "code",
   "execution_count": 51,
   "metadata": {
    "collapsed": true
   },
   "outputs": [],
   "source": [
    "import pandas as pd\n",
    "import numpy as np\n",
    "import re"
   ]
  },
  {
   "cell_type": "markdown",
   "metadata": {},
   "source": [
    "# Read the csv"
   ]
  },
  {
   "cell_type": "code",
   "execution_count": 52,
   "metadata": {},
   "outputs": [
    {
     "data": {
      "text/html": [
       "<div>\n",
       "<style>\n",
       "    .dataframe thead tr:only-child th {\n",
       "        text-align: right;\n",
       "    }\n",
       "\n",
       "    .dataframe thead th {\n",
       "        text-align: left;\n",
       "    }\n",
       "\n",
       "    .dataframe tbody tr th {\n",
       "        vertical-align: top;\n",
       "    }\n",
       "</style>\n",
       "<table border=\"1\" class=\"dataframe\">\n",
       "  <thead>\n",
       "    <tr style=\"text-align: right;\">\n",
       "      <th></th>\n",
       "      <th>Date</th>\n",
       "      <th>Screen Name</th>\n",
       "      <th>Full Name</th>\n",
       "      <th>Tweet Text</th>\n",
       "      <th>Tweet ID</th>\n",
       "      <th>App</th>\n",
       "      <th>Followers</th>\n",
       "      <th>Follows</th>\n",
       "      <th>Retweets</th>\n",
       "      <th>Favorites</th>\n",
       "      <th>Verfied</th>\n",
       "      <th>User Since</th>\n",
       "      <th>Location</th>\n",
       "      <th>Bio</th>\n",
       "      <th>Google Maps</th>\n",
       "    </tr>\n",
       "  </thead>\n",
       "  <tbody>\n",
       "    <tr>\n",
       "      <th>0</th>\n",
       "      <td>4.30.2017 20:23:21</td>\n",
       "      <td>@juanrra1150</td>\n",
       "      <td>Juan Morales</td>\n",
       "      <td>RT @JoseFdoSanin: En donde est la calumnia do...</td>\n",
       "      <td>858854321110355969</td>\n",
       "      <td>Twitter for Android</td>\n",
       "      <td>2430</td>\n",
       "      <td>2043</td>\n",
       "      <td>133</td>\n",
       "      <td>0</td>\n",
       "      <td>No</td>\n",
       "      <td>28.08.13</td>\n",
       "      <td>NaN</td>\n",
       "      <td>Que el derecho y la justicia nos den la libert...</td>\n",
       "      <td>NaN</td>\n",
       "    </tr>\n",
       "    <tr>\n",
       "      <th>1</th>\n",
       "      <td>4.30.2017 20:23:30</td>\n",
       "      <td>@8Luzcla</td>\n",
       "      <td>LUZ ROJAS</td>\n",
       "      <td>RT @ClaudiaLopez: Maana estaremos desde 10am ...</td>\n",
       "      <td>858854358854889473</td>\n",
       "      <td>Twitter for iPhone</td>\n",
       "      <td>12</td>\n",
       "      <td>20</td>\n",
       "      <td>16</td>\n",
       "      <td>0</td>\n",
       "      <td>No</td>\n",
       "      <td>22.02.15</td>\n",
       "      <td>NaN</td>\n",
       "      <td>NaN</td>\n",
       "      <td>NaN</td>\n",
       "    </tr>\n",
       "    <tr>\n",
       "      <th>2</th>\n",
       "      <td>4.30.2017 20:23:38</td>\n",
       "      <td>@8Luzcla</td>\n",
       "      <td>LUZ ROJAS</td>\n",
       "      <td>RT @PoliFelicidad: Pasando de la indignacin a...</td>\n",
       "      <td>858854392069595136</td>\n",
       "      <td>Twitter for iPhone</td>\n",
       "      <td>12</td>\n",
       "      <td>20</td>\n",
       "      <td>16</td>\n",
       "      <td>0</td>\n",
       "      <td>No</td>\n",
       "      <td>22.02.15</td>\n",
       "      <td>NaN</td>\n",
       "      <td>NaN</td>\n",
       "      <td>NaN</td>\n",
       "    </tr>\n",
       "    <tr>\n",
       "      <th>3</th>\n",
       "      <td>4.30.2017 20:23:40</td>\n",
       "      <td>@Victora35831895</td>\n",
       "      <td>Victor alfonso corte</td>\n",
       "      <td>@abimeljoaquin @ConchitaC777 @MariaFdaCabal Gr...</td>\n",
       "      <td>858854400999272448</td>\n",
       "      <td>Twitter Lite</td>\n",
       "      <td>30</td>\n",
       "      <td>111</td>\n",
       "      <td>0</td>\n",
       "      <td>0</td>\n",
       "      <td>No</td>\n",
       "      <td>17.02.16</td>\n",
       "      <td>Bogota</td>\n",
       "      <td>Abogado Especialista derecho administrativo</td>\n",
       "      <td>NaN</td>\n",
       "    </tr>\n",
       "    <tr>\n",
       "      <th>4</th>\n",
       "      <td>4.30.2017 20:24:11</td>\n",
       "      <td>@mariogalvang</td>\n",
       "      <td>Mario Enrique Galvan</td>\n",
       "      <td>@ClaudiaLopez defina la palabra POLêTICA</td>\n",
       "      <td>858854528799698944</td>\n",
       "      <td>Twitter for Android</td>\n",
       "      <td>22</td>\n",
       "      <td>84</td>\n",
       "      <td>0</td>\n",
       "      <td>0</td>\n",
       "      <td>No</td>\n",
       "      <td>10.06.10</td>\n",
       "      <td>NaN</td>\n",
       "      <td>NaN</td>\n",
       "      <td>NaN</td>\n",
       "    </tr>\n",
       "  </tbody>\n",
       "</table>\n",
       "</div>"
      ],
      "text/plain": [
       "                 Date       Screen Name             Full Name  \\\n",
       "0  4.30.2017 20:23:21      @juanrra1150          Juan Morales   \n",
       "1  4.30.2017 20:23:30          @8Luzcla             LUZ ROJAS   \n",
       "2  4.30.2017 20:23:38          @8Luzcla             LUZ ROJAS   \n",
       "3  4.30.2017 20:23:40  @Victora35831895  Victor alfonso corte   \n",
       "4  4.30.2017 20:24:11     @mariogalvang  Mario Enrique Galvan   \n",
       "\n",
       "                                          Tweet Text            Tweet ID  \\\n",
       "0  RT @JoseFdoSanin: En donde est la calumnia do...  858854321110355969   \n",
       "1  RT @ClaudiaLopez: Maana estaremos desde 10am ...  858854358854889473   \n",
       "2  RT @PoliFelicidad: Pasando de la indignacin a...  858854392069595136   \n",
       "3  @abimeljoaquin @ConchitaC777 @MariaFdaCabal Gr...  858854400999272448   \n",
       "4           @ClaudiaLopez defina la palabra POLêTICA  858854528799698944   \n",
       "\n",
       "                   App  Followers  Follows  Retweets  Favorites Verfied  \\\n",
       "0  Twitter for Android       2430     2043       133          0      No   \n",
       "1   Twitter for iPhone         12       20        16          0      No   \n",
       "2   Twitter for iPhone         12       20        16          0      No   \n",
       "3         Twitter Lite         30      111         0          0      No   \n",
       "4  Twitter for Android         22       84         0          0      No   \n",
       "\n",
       "  User Since Location                                                Bio  \\\n",
       "0   28.08.13      NaN  Que el derecho y la justicia nos den la libert...   \n",
       "1   22.02.15      NaN                                                NaN   \n",
       "2   22.02.15      NaN                                                NaN   \n",
       "3   17.02.16   Bogota        Abogado Especialista derecho administrativo   \n",
       "4   10.06.10      NaN                                                NaN   \n",
       "\n",
       "  Google Maps  \n",
       "0         NaN  \n",
       "1         NaN  \n",
       "2         NaN  \n",
       "3         NaN  \n",
       "4         NaN  "
      ]
     },
     "execution_count": 52,
     "metadata": {},
     "output_type": "execute_result"
    }
   ],
   "source": [
    "dtype = {\n",
    "    'Date': np.str, \n",
    "    'Screen Name': np.str, \n",
    "    'Full Name': np.str,\n",
    "    'Tweet Text': np.str,\n",
    "    'Tweet ID': np.int,\n",
    "    'App': np.str,\n",
    "    'Verfied': np.str,\n",
    "    'User Since': np.str,\n",
    "    'Location': np.str,\n",
    "    'Bio': np.str,\n",
    "    'Profile Image': np.str,\n",
    "    'Google Maps': np.str,\n",
    "    }\n",
    "df = pd.read_csv('./undepured/first_round.csv', sep=';', encoding='latin-1', dtype=dtype)\n",
    "df.drop('Profile Image', axis=1, inplace=True)\n",
    "df.head()"
   ]
  },
  {
   "cell_type": "markdown",
   "metadata": {},
   "source": [
    "## Checking it everything is allright"
   ]
  },
  {
   "cell_type": "code",
   "execution_count": 53,
   "metadata": {},
   "outputs": [
    {
     "data": {
      "text/plain": [
       "65186"
      ]
     },
     "execution_count": 53,
     "metadata": {},
     "output_type": "execute_result"
    }
   ],
   "source": [
    "df['Tweet ID'].count()"
   ]
  },
  {
   "cell_type": "code",
   "execution_count": 54,
   "metadata": {},
   "outputs": [
    {
     "data": {
      "text/html": [
       "<div>\n",
       "<style>\n",
       "    .dataframe thead tr:only-child th {\n",
       "        text-align: right;\n",
       "    }\n",
       "\n",
       "    .dataframe thead th {\n",
       "        text-align: left;\n",
       "    }\n",
       "\n",
       "    .dataframe tbody tr th {\n",
       "        vertical-align: top;\n",
       "    }\n",
       "</style>\n",
       "<table border=\"1\" class=\"dataframe\">\n",
       "  <thead>\n",
       "    <tr style=\"text-align: right;\">\n",
       "      <th></th>\n",
       "      <th>Date</th>\n",
       "      <th>Screen Name</th>\n",
       "      <th>Full Name</th>\n",
       "      <th>Tweet Text</th>\n",
       "      <th>Tweet ID</th>\n",
       "      <th>App</th>\n",
       "      <th>Followers</th>\n",
       "      <th>Follows</th>\n",
       "      <th>Retweets</th>\n",
       "      <th>Favorites</th>\n",
       "      <th>Verfied</th>\n",
       "      <th>User Since</th>\n",
       "      <th>Location</th>\n",
       "      <th>Bio</th>\n",
       "      <th>Google Maps</th>\n",
       "    </tr>\n",
       "  </thead>\n",
       "  <tbody>\n",
       "  </tbody>\n",
       "</table>\n",
       "</div>"
      ],
      "text/plain": [
       "Empty DataFrame\n",
       "Columns: [Date, Screen Name, Full Name, Tweet Text, Tweet ID, App, Followers, Follows, Retweets, Favorites, Verfied, User Since, Location, Bio, Google Maps]\n",
       "Index: []"
      ]
     },
     "execution_count": 54,
     "metadata": {},
     "output_type": "execute_result"
    }
   ],
   "source": [
    "df[df['Tweet ID'].isnull()]"
   ]
  },
  {
   "cell_type": "code",
   "execution_count": 55,
   "metadata": {},
   "outputs": [
    {
     "data": {
      "text/html": [
       "<div>\n",
       "<style>\n",
       "    .dataframe thead tr:only-child th {\n",
       "        text-align: right;\n",
       "    }\n",
       "\n",
       "    .dataframe thead th {\n",
       "        text-align: left;\n",
       "    }\n",
       "\n",
       "    .dataframe tbody tr th {\n",
       "        vertical-align: top;\n",
       "    }\n",
       "</style>\n",
       "<table border=\"1\" class=\"dataframe\">\n",
       "  <thead>\n",
       "    <tr style=\"text-align: right;\">\n",
       "      <th></th>\n",
       "      <th>Date</th>\n",
       "      <th>Screen Name</th>\n",
       "      <th>Full Name</th>\n",
       "      <th>Tweet Text</th>\n",
       "      <th>Tweet ID</th>\n",
       "      <th>App</th>\n",
       "      <th>Followers</th>\n",
       "      <th>Follows</th>\n",
       "      <th>Retweets</th>\n",
       "      <th>Favorites</th>\n",
       "      <th>Verfied</th>\n",
       "      <th>User Since</th>\n",
       "      <th>Location</th>\n",
       "      <th>Bio</th>\n",
       "      <th>Google Maps</th>\n",
       "    </tr>\n",
       "  </thead>\n",
       "  <tbody>\n",
       "  </tbody>\n",
       "</table>\n",
       "</div>"
      ],
      "text/plain": [
       "Empty DataFrame\n",
       "Columns: [Date, Screen Name, Full Name, Tweet Text, Tweet ID, App, Followers, Follows, Retweets, Favorites, Verfied, User Since, Location, Bio, Google Maps]\n",
       "Index: []"
      ]
     },
     "execution_count": 55,
     "metadata": {},
     "output_type": "execute_result"
    }
   ],
   "source": [
    "df[df['Tweet Text'].isnull()]"
   ]
  },
  {
   "cell_type": "markdown",
   "metadata": {},
   "source": [
    "## Removing all whitespaces (`\\w`) and `\\r` for a single space"
   ]
  },
  {
   "cell_type": "code",
   "execution_count": 130,
   "metadata": {},
   "outputs": [],
   "source": [
    "df.replace('(\\n|\\r)+', ' ', regex=True, inplace=True)"
   ]
  },
  {
   "cell_type": "markdown",
   "metadata": {},
   "source": [
    "## Removing urls"
   ]
  },
  {
   "cell_type": "code",
   "execution_count": 131,
   "metadata": {
    "collapsed": true
   },
   "outputs": [],
   "source": [
    "df['tweet-no-urls'] = df['Tweet Text'].apply(lambda text: re.sub(r'(https)(([^(\\\"|,)|\\s|$])*)(?=(?:\\\"|\\,|\\s|$))', '', text.lower()))"
   ]
  },
  {
   "cell_type": "code",
   "execution_count": 132,
   "metadata": {},
   "outputs": [
    {
     "data": {
      "text/html": [
       "<div>\n",
       "<style>\n",
       "    .dataframe thead tr:only-child th {\n",
       "        text-align: right;\n",
       "    }\n",
       "\n",
       "    .dataframe thead th {\n",
       "        text-align: left;\n",
       "    }\n",
       "\n",
       "    .dataframe tbody tr th {\n",
       "        vertical-align: top;\n",
       "    }\n",
       "</style>\n",
       "<table border=\"1\" class=\"dataframe\">\n",
       "  <thead>\n",
       "    <tr style=\"text-align: right;\">\n",
       "      <th></th>\n",
       "      <th>Date</th>\n",
       "      <th>Screen Name</th>\n",
       "      <th>Full Name</th>\n",
       "      <th>Tweet Text</th>\n",
       "      <th>Tweet ID</th>\n",
       "      <th>App</th>\n",
       "      <th>Followers</th>\n",
       "      <th>Follows</th>\n",
       "      <th>Retweets</th>\n",
       "      <th>Favorites</th>\n",
       "      <th>Verfied</th>\n",
       "      <th>User Since</th>\n",
       "      <th>Location</th>\n",
       "      <th>Bio</th>\n",
       "      <th>Google Maps</th>\n",
       "      <th>tweet-no-urls</th>\n",
       "      <th>rt?</th>\n",
       "      <th>#@</th>\n",
       "      <th>original</th>\n",
       "    </tr>\n",
       "  </thead>\n",
       "  <tbody>\n",
       "    <tr>\n",
       "      <th>0</th>\n",
       "      <td>4.30.2017 20:23:21</td>\n",
       "      <td>@juanrra1150</td>\n",
       "      <td>Juan Morales</td>\n",
       "      <td>RT @JoseFdoSanin: En donde est la calumnia do...</td>\n",
       "      <td>858854321110355969</td>\n",
       "      <td>Twitter for Android</td>\n",
       "      <td>2430</td>\n",
       "      <td>2043</td>\n",
       "      <td>133</td>\n",
       "      <td>0</td>\n",
       "      <td>No</td>\n",
       "      <td>28.08.13</td>\n",
       "      <td>NaN</td>\n",
       "      <td>Que el derecho y la justicia nos den la libert...</td>\n",
       "      <td>NaN</td>\n",
       "      <td>rt @josefdosanin: en donde est la calumnia do...</td>\n",
       "      <td>False</td>\n",
       "      <td>3</td>\n",
       "      <td>True</td>\n",
       "    </tr>\n",
       "    <tr>\n",
       "      <th>1</th>\n",
       "      <td>4.30.2017 20:23:30</td>\n",
       "      <td>@8Luzcla</td>\n",
       "      <td>LUZ ROJAS</td>\n",
       "      <td>RT @ClaudiaLopez: Maana estaremos desde 10am ...</td>\n",
       "      <td>858854358854889473</td>\n",
       "      <td>Twitter for iPhone</td>\n",
       "      <td>12</td>\n",
       "      <td>20</td>\n",
       "      <td>16</td>\n",
       "      <td>0</td>\n",
       "      <td>No</td>\n",
       "      <td>22.02.15</td>\n",
       "      <td>NaN</td>\n",
       "      <td>NaN</td>\n",
       "      <td>NaN</td>\n",
       "      <td>rt @claudialopez: maana estaremos desde 10am ...</td>\n",
       "      <td>False</td>\n",
       "      <td>2</td>\n",
       "      <td>True</td>\n",
       "    </tr>\n",
       "    <tr>\n",
       "      <th>2</th>\n",
       "      <td>4.30.2017 20:23:38</td>\n",
       "      <td>@8Luzcla</td>\n",
       "      <td>LUZ ROJAS</td>\n",
       "      <td>RT @PoliFelicidad: Pasando de la indignacin a...</td>\n",
       "      <td>858854392069595136</td>\n",
       "      <td>Twitter for iPhone</td>\n",
       "      <td>12</td>\n",
       "      <td>20</td>\n",
       "      <td>16</td>\n",
       "      <td>0</td>\n",
       "      <td>No</td>\n",
       "      <td>22.02.15</td>\n",
       "      <td>NaN</td>\n",
       "      <td>NaN</td>\n",
       "      <td>NaN</td>\n",
       "      <td>rt @polifelicidad: pasando de la indignacin a...</td>\n",
       "      <td>False</td>\n",
       "      <td>3</td>\n",
       "      <td>True</td>\n",
       "    </tr>\n",
       "    <tr>\n",
       "      <th>3</th>\n",
       "      <td>4.30.2017 20:23:40</td>\n",
       "      <td>@Victora35831895</td>\n",
       "      <td>Victor alfonso corte</td>\n",
       "      <td>@abimeljoaquin @ConchitaC777 @MariaFdaCabal Gr...</td>\n",
       "      <td>858854400999272448</td>\n",
       "      <td>Twitter Lite</td>\n",
       "      <td>30</td>\n",
       "      <td>111</td>\n",
       "      <td>0</td>\n",
       "      <td>0</td>\n",
       "      <td>No</td>\n",
       "      <td>17.02.16</td>\n",
       "      <td>Bogota</td>\n",
       "      <td>Abogado Especialista derecho administrativo</td>\n",
       "      <td>NaN</td>\n",
       "      <td>@abimeljoaquin @conchitac777 @mariafdacabal gr...</td>\n",
       "      <td>False</td>\n",
       "      <td>3</td>\n",
       "      <td>True</td>\n",
       "    </tr>\n",
       "    <tr>\n",
       "      <th>4</th>\n",
       "      <td>4.30.2017 20:24:11</td>\n",
       "      <td>@mariogalvang</td>\n",
       "      <td>Mario Enrique Galvan</td>\n",
       "      <td>@ClaudiaLopez defina la palabra POLêTICA</td>\n",
       "      <td>858854528799698944</td>\n",
       "      <td>Twitter for Android</td>\n",
       "      <td>22</td>\n",
       "      <td>84</td>\n",
       "      <td>0</td>\n",
       "      <td>0</td>\n",
       "      <td>No</td>\n",
       "      <td>10.06.10</td>\n",
       "      <td>NaN</td>\n",
       "      <td>NaN</td>\n",
       "      <td>NaN</td>\n",
       "      <td>@claudialopez defina la palabra polêtica</td>\n",
       "      <td>False</td>\n",
       "      <td>1</td>\n",
       "      <td>True</td>\n",
       "    </tr>\n",
       "  </tbody>\n",
       "</table>\n",
       "</div>"
      ],
      "text/plain": [
       "                 Date       Screen Name             Full Name  \\\n",
       "0  4.30.2017 20:23:21      @juanrra1150          Juan Morales   \n",
       "1  4.30.2017 20:23:30          @8Luzcla             LUZ ROJAS   \n",
       "2  4.30.2017 20:23:38          @8Luzcla             LUZ ROJAS   \n",
       "3  4.30.2017 20:23:40  @Victora35831895  Victor alfonso corte   \n",
       "4  4.30.2017 20:24:11     @mariogalvang  Mario Enrique Galvan   \n",
       "\n",
       "                                          Tweet Text            Tweet ID  \\\n",
       "0  RT @JoseFdoSanin: En donde est la calumnia do...  858854321110355969   \n",
       "1  RT @ClaudiaLopez: Maana estaremos desde 10am ...  858854358854889473   \n",
       "2  RT @PoliFelicidad: Pasando de la indignacin a...  858854392069595136   \n",
       "3  @abimeljoaquin @ConchitaC777 @MariaFdaCabal Gr...  858854400999272448   \n",
       "4           @ClaudiaLopez defina la palabra POLêTICA  858854528799698944   \n",
       "\n",
       "                   App  Followers  Follows  Retweets  Favorites Verfied  \\\n",
       "0  Twitter for Android       2430     2043       133          0      No   \n",
       "1   Twitter for iPhone         12       20        16          0      No   \n",
       "2   Twitter for iPhone         12       20        16          0      No   \n",
       "3         Twitter Lite         30      111         0          0      No   \n",
       "4  Twitter for Android         22       84         0          0      No   \n",
       "\n",
       "  User Since Location                                                Bio  \\\n",
       "0   28.08.13      NaN  Que el derecho y la justicia nos den la libert...   \n",
       "1   22.02.15      NaN                                                NaN   \n",
       "2   22.02.15      NaN                                                NaN   \n",
       "3   17.02.16   Bogota        Abogado Especialista derecho administrativo   \n",
       "4   10.06.10      NaN                                                NaN   \n",
       "\n",
       "  Google Maps                                      tweet-no-urls    rt?  #@  \\\n",
       "0         NaN  rt @josefdosanin: en donde est la calumnia do...  False   3   \n",
       "1         NaN  rt @claudialopez: maana estaremos desde 10am ...  False   2   \n",
       "2         NaN  rt @polifelicidad: pasando de la indignacin a...  False   3   \n",
       "3         NaN  @abimeljoaquin @conchitac777 @mariafdacabal gr...  False   3   \n",
       "4         NaN           @claudialopez defina la palabra polêtica  False   1   \n",
       "\n",
       "   original  \n",
       "0      True  \n",
       "1      True  \n",
       "2      True  \n",
       "3      True  \n",
       "4      True  "
      ]
     },
     "execution_count": 132,
     "metadata": {},
     "output_type": "execute_result"
    }
   ],
   "source": [
    "df.head()"
   ]
  },
  {
   "cell_type": "code",
   "execution_count": 133,
   "metadata": {},
   "outputs": [
    {
     "data": {
      "text/html": [
       "<div>\n",
       "<style>\n",
       "    .dataframe thead tr:only-child th {\n",
       "        text-align: right;\n",
       "    }\n",
       "\n",
       "    .dataframe thead th {\n",
       "        text-align: left;\n",
       "    }\n",
       "\n",
       "    .dataframe tbody tr th {\n",
       "        vertical-align: top;\n",
       "    }\n",
       "</style>\n",
       "<table border=\"1\" class=\"dataframe\">\n",
       "  <thead>\n",
       "    <tr style=\"text-align: right;\">\n",
       "      <th></th>\n",
       "      <th>Date</th>\n",
       "      <th>Screen Name</th>\n",
       "      <th>Full Name</th>\n",
       "      <th>Tweet Text</th>\n",
       "      <th>Tweet ID</th>\n",
       "      <th>App</th>\n",
       "      <th>Followers</th>\n",
       "      <th>Follows</th>\n",
       "      <th>Retweets</th>\n",
       "      <th>Favorites</th>\n",
       "      <th>Verfied</th>\n",
       "      <th>User Since</th>\n",
       "      <th>Location</th>\n",
       "      <th>Bio</th>\n",
       "      <th>Google Maps</th>\n",
       "      <th>tweet-no-urls</th>\n",
       "      <th>rt?</th>\n",
       "      <th>#@</th>\n",
       "      <th>original</th>\n",
       "    </tr>\n",
       "  </thead>\n",
       "  <tbody>\n",
       "  </tbody>\n",
       "</table>\n",
       "</div>"
      ],
      "text/plain": [
       "Empty DataFrame\n",
       "Columns: [Date, Screen Name, Full Name, Tweet Text, Tweet ID, App, Followers, Follows, Retweets, Favorites, Verfied, User Since, Location, Bio, Google Maps, tweet-no-urls, rt?, #@, original]\n",
       "Index: []"
      ]
     },
     "execution_count": 133,
     "metadata": {},
     "output_type": "execute_result"
    }
   ],
   "source": [
    "df[df['tweet-no-urls'].isnull()]"
   ]
  },
  {
   "cell_type": "markdown",
   "metadata": {},
   "source": [
    "## Undertanding duplicates"
   ]
  },
  {
   "cell_type": "code",
   "execution_count": 134,
   "metadata": {},
   "outputs": [
    {
     "data": {
      "text/html": [
       "<div>\n",
       "<style>\n",
       "    .dataframe thead tr:only-child th {\n",
       "        text-align: right;\n",
       "    }\n",
       "\n",
       "    .dataframe thead th {\n",
       "        text-align: left;\n",
       "    }\n",
       "\n",
       "    .dataframe tbody tr th {\n",
       "        vertical-align: top;\n",
       "    }\n",
       "</style>\n",
       "<table border=\"1\" class=\"dataframe\">\n",
       "  <thead>\n",
       "    <tr style=\"text-align: right;\">\n",
       "      <th></th>\n",
       "      <th>Tweet ID</th>\n",
       "    </tr>\n",
       "  </thead>\n",
       "  <tbody>\n",
       "    <tr>\n",
       "      <th>count</th>\n",
       "      <td>0.0</td>\n",
       "    </tr>\n",
       "    <tr>\n",
       "      <th>mean</th>\n",
       "      <td>NaN</td>\n",
       "    </tr>\n",
       "    <tr>\n",
       "      <th>std</th>\n",
       "      <td>NaN</td>\n",
       "    </tr>\n",
       "    <tr>\n",
       "      <th>min</th>\n",
       "      <td>NaN</td>\n",
       "    </tr>\n",
       "    <tr>\n",
       "      <th>25%</th>\n",
       "      <td>NaN</td>\n",
       "    </tr>\n",
       "    <tr>\n",
       "      <th>50%</th>\n",
       "      <td>NaN</td>\n",
       "    </tr>\n",
       "    <tr>\n",
       "      <th>75%</th>\n",
       "      <td>NaN</td>\n",
       "    </tr>\n",
       "    <tr>\n",
       "      <th>max</th>\n",
       "      <td>NaN</td>\n",
       "    </tr>\n",
       "  </tbody>\n",
       "</table>\n",
       "</div>"
      ],
      "text/plain": [
       "       Tweet ID\n",
       "count       0.0\n",
       "mean        NaN\n",
       "std         NaN\n",
       "min         NaN\n",
       "25%         NaN\n",
       "50%         NaN\n",
       "75%         NaN\n",
       "max         NaN"
      ]
     },
     "execution_count": 134,
     "metadata": {},
     "output_type": "execute_result"
    }
   ],
   "source": [
    "# Find a way to show duplicates\n",
    "df[df.duplicated(subset=['Tweet ID']) == True].sort_values('Tweet ID').loc[:,['Tweet ID','tweet-no-urls']].describe()"
   ]
  },
  {
   "cell_type": "markdown",
   "metadata": {},
   "source": [
    "## Removing duplicates"
   ]
  },
  {
   "cell_type": "code",
   "execution_count": 135,
   "metadata": {
    "collapsed": true
   },
   "outputs": [],
   "source": [
    "df.drop_duplicates(subset=['Tweet ID'], inplace=True)"
   ]
  },
  {
   "cell_type": "markdown",
   "metadata": {},
   "source": [
    "## Creating rt? column"
   ]
  },
  {
   "cell_type": "code",
   "execution_count": 136,
   "metadata": {
    "collapsed": true
   },
   "outputs": [],
   "source": [
    "df.loc[:,'rt?'] = df.loc[:,'tweet-no-urls'].str.contains('^\\w*rt\\w+', regex=True)"
   ]
  },
  {
   "cell_type": "code",
   "execution_count": 137,
   "metadata": {},
   "outputs": [
    {
     "data": {
      "text/plain": [
       "172"
      ]
     },
     "execution_count": 137,
     "metadata": {},
     "output_type": "execute_result"
    }
   ],
   "source": [
    "df.loc[:,'rt?'].sum()"
   ]
  },
  {
   "cell_type": "code",
   "execution_count": 138,
   "metadata": {},
   "outputs": [
    {
     "data": {
      "text/plain": [
       "count                                                 53213\n",
       "unique                                                45253\n",
       "top       para #premiosmtvmiaw #mtvcrushreyes #mtvexpopr...\n",
       "freq                                                     50\n",
       "Name: tweet-no-urls, dtype: object"
      ]
     },
     "execution_count": 138,
     "metadata": {},
     "output_type": "execute_result"
    }
   ],
   "source": [
    "df.loc[:,'tweet-no-urls'].describe()"
   ]
  },
  {
   "cell_type": "markdown",
   "metadata": {
    "collapsed": true
   },
   "source": [
    "## Creating number of @ column"
   ]
  },
  {
   "cell_type": "code",
   "execution_count": 139,
   "metadata": {
    "collapsed": true
   },
   "outputs": [],
   "source": [
    "df.loc[:,'#@'] = df.loc[:,'tweet-no-urls'].str.count('@')"
   ]
  },
  {
   "cell_type": "code",
   "execution_count": 140,
   "metadata": {},
   "outputs": [
    {
     "data": {
      "text/plain": [
       "count    53213.000000\n",
       "mean         0.883543\n",
       "std          1.046478\n",
       "min          0.000000\n",
       "25%          0.000000\n",
       "50%          1.000000\n",
       "75%          1.000000\n",
       "max         13.000000\n",
       "Name: #@, dtype: float64"
      ]
     },
     "execution_count": 140,
     "metadata": {},
     "output_type": "execute_result"
    }
   ],
   "source": [
    "df.loc[:,'#@'].describe()"
   ]
  },
  {
   "cell_type": "markdown",
   "metadata": {},
   "source": [
    "## Creating column `original`\n",
    "`True` if there is no other tweet like it"
   ]
  },
  {
   "cell_type": "code",
   "execution_count": 141,
   "metadata": {
    "collapsed": true
   },
   "outputs": [],
   "source": [
    "df.loc[:,'original'] = -df.loc[:,'tweet-no-urls'].str.replace(r'^\\w*rt\\w+', '').duplicated()"
   ]
  },
  {
   "cell_type": "markdown",
   "metadata": {},
   "source": [
    "## Cheacking everything"
   ]
  },
  {
   "cell_type": "code",
   "execution_count": 142,
   "metadata": {},
   "outputs": [
    {
     "data": {
      "text/html": [
       "<div>\n",
       "<style>\n",
       "    .dataframe thead tr:only-child th {\n",
       "        text-align: right;\n",
       "    }\n",
       "\n",
       "    .dataframe thead th {\n",
       "        text-align: left;\n",
       "    }\n",
       "\n",
       "    .dataframe tbody tr th {\n",
       "        vertical-align: top;\n",
       "    }\n",
       "</style>\n",
       "<table border=\"1\" class=\"dataframe\">\n",
       "  <thead>\n",
       "    <tr style=\"text-align: right;\">\n",
       "      <th></th>\n",
       "      <th>Date</th>\n",
       "      <th>Screen Name</th>\n",
       "      <th>Full Name</th>\n",
       "      <th>Tweet Text</th>\n",
       "      <th>Tweet ID</th>\n",
       "      <th>App</th>\n",
       "      <th>Followers</th>\n",
       "      <th>Follows</th>\n",
       "      <th>Retweets</th>\n",
       "      <th>Favorites</th>\n",
       "      <th>Verfied</th>\n",
       "      <th>User Since</th>\n",
       "      <th>Location</th>\n",
       "      <th>Bio</th>\n",
       "      <th>Google Maps</th>\n",
       "      <th>tweet-no-urls</th>\n",
       "      <th>rt?</th>\n",
       "      <th>#@</th>\n",
       "      <th>original</th>\n",
       "    </tr>\n",
       "  </thead>\n",
       "  <tbody>\n",
       "  </tbody>\n",
       "</table>\n",
       "</div>"
      ],
      "text/plain": [
       "Empty DataFrame\n",
       "Columns: [Date, Screen Name, Full Name, Tweet Text, Tweet ID, App, Followers, Follows, Retweets, Favorites, Verfied, User Since, Location, Bio, Google Maps, tweet-no-urls, rt?, #@, original]\n",
       "Index: []"
      ]
     },
     "execution_count": 142,
     "metadata": {},
     "output_type": "execute_result"
    }
   ],
   "source": [
    "df[df['tweet-no-urls'].isnull()]"
   ]
  },
  {
   "cell_type": "code",
   "execution_count": 143,
   "metadata": {},
   "outputs": [
    {
     "data": {
      "text/html": [
       "<div>\n",
       "<style>\n",
       "    .dataframe thead tr:only-child th {\n",
       "        text-align: right;\n",
       "    }\n",
       "\n",
       "    .dataframe thead th {\n",
       "        text-align: left;\n",
       "    }\n",
       "\n",
       "    .dataframe tbody tr th {\n",
       "        vertical-align: top;\n",
       "    }\n",
       "</style>\n",
       "<table border=\"1\" class=\"dataframe\">\n",
       "  <thead>\n",
       "    <tr style=\"text-align: right;\">\n",
       "      <th></th>\n",
       "      <th>Date</th>\n",
       "      <th>Screen Name</th>\n",
       "      <th>Full Name</th>\n",
       "      <th>Tweet Text</th>\n",
       "      <th>Tweet ID</th>\n",
       "      <th>App</th>\n",
       "      <th>Followers</th>\n",
       "      <th>Follows</th>\n",
       "      <th>Retweets</th>\n",
       "      <th>Favorites</th>\n",
       "      <th>Verfied</th>\n",
       "      <th>User Since</th>\n",
       "      <th>Location</th>\n",
       "      <th>Bio</th>\n",
       "      <th>Google Maps</th>\n",
       "      <th>tweet-no-urls</th>\n",
       "      <th>rt?</th>\n",
       "      <th>#@</th>\n",
       "      <th>original</th>\n",
       "    </tr>\n",
       "  </thead>\n",
       "  <tbody>\n",
       "  </tbody>\n",
       "</table>\n",
       "</div>"
      ],
      "text/plain": [
       "Empty DataFrame\n",
       "Columns: [Date, Screen Name, Full Name, Tweet Text, Tweet ID, App, Followers, Follows, Retweets, Favorites, Verfied, User Since, Location, Bio, Google Maps, tweet-no-urls, rt?, #@, original]\n",
       "Index: []"
      ]
     },
     "execution_count": 143,
     "metadata": {},
     "output_type": "execute_result"
    }
   ],
   "source": [
    "df[df['Screen Name'].isnull()]"
   ]
  },
  {
   "cell_type": "code",
   "execution_count": 144,
   "metadata": {},
   "outputs": [
    {
     "data": {
      "text/html": [
       "<div>\n",
       "<style>\n",
       "    .dataframe thead tr:only-child th {\n",
       "        text-align: right;\n",
       "    }\n",
       "\n",
       "    .dataframe thead th {\n",
       "        text-align: left;\n",
       "    }\n",
       "\n",
       "    .dataframe tbody tr th {\n",
       "        vertical-align: top;\n",
       "    }\n",
       "</style>\n",
       "<table border=\"1\" class=\"dataframe\">\n",
       "  <thead>\n",
       "    <tr style=\"text-align: right;\">\n",
       "      <th></th>\n",
       "      <th>Date</th>\n",
       "      <th>Screen Name</th>\n",
       "      <th>Full Name</th>\n",
       "      <th>Tweet Text</th>\n",
       "      <th>Tweet ID</th>\n",
       "      <th>App</th>\n",
       "      <th>Followers</th>\n",
       "      <th>Follows</th>\n",
       "      <th>Retweets</th>\n",
       "      <th>Favorites</th>\n",
       "      <th>Verfied</th>\n",
       "      <th>User Since</th>\n",
       "      <th>Location</th>\n",
       "      <th>Bio</th>\n",
       "      <th>Google Maps</th>\n",
       "      <th>tweet-no-urls</th>\n",
       "      <th>rt?</th>\n",
       "      <th>#@</th>\n",
       "      <th>original</th>\n",
       "    </tr>\n",
       "  </thead>\n",
       "  <tbody>\n",
       "  </tbody>\n",
       "</table>\n",
       "</div>"
      ],
      "text/plain": [
       "Empty DataFrame\n",
       "Columns: [Date, Screen Name, Full Name, Tweet Text, Tweet ID, App, Followers, Follows, Retweets, Favorites, Verfied, User Since, Location, Bio, Google Maps, tweet-no-urls, rt?, #@, original]\n",
       "Index: []"
      ]
     },
     "execution_count": 144,
     "metadata": {},
     "output_type": "execute_result"
    }
   ],
   "source": [
    "df[df['Date'].isnull()]"
   ]
  },
  {
   "cell_type": "code",
   "execution_count": 145,
   "metadata": {},
   "outputs": [
    {
     "data": {
      "text/html": [
       "<div>\n",
       "<style>\n",
       "    .dataframe thead tr:only-child th {\n",
       "        text-align: right;\n",
       "    }\n",
       "\n",
       "    .dataframe thead th {\n",
       "        text-align: left;\n",
       "    }\n",
       "\n",
       "    .dataframe tbody tr th {\n",
       "        vertical-align: top;\n",
       "    }\n",
       "</style>\n",
       "<table border=\"1\" class=\"dataframe\">\n",
       "  <thead>\n",
       "    <tr style=\"text-align: right;\">\n",
       "      <th></th>\n",
       "      <th>Date</th>\n",
       "      <th>Screen Name</th>\n",
       "      <th>Full Name</th>\n",
       "      <th>Tweet Text</th>\n",
       "      <th>Tweet ID</th>\n",
       "      <th>App</th>\n",
       "      <th>Followers</th>\n",
       "      <th>Follows</th>\n",
       "      <th>Retweets</th>\n",
       "      <th>Favorites</th>\n",
       "      <th>Verfied</th>\n",
       "      <th>User Since</th>\n",
       "      <th>Location</th>\n",
       "      <th>Bio</th>\n",
       "      <th>Google Maps</th>\n",
       "      <th>tweet-no-urls</th>\n",
       "      <th>rt?</th>\n",
       "      <th>#@</th>\n",
       "      <th>original</th>\n",
       "    </tr>\n",
       "  </thead>\n",
       "  <tbody>\n",
       "  </tbody>\n",
       "</table>\n",
       "</div>"
      ],
      "text/plain": [
       "Empty DataFrame\n",
       "Columns: [Date, Screen Name, Full Name, Tweet Text, Tweet ID, App, Followers, Follows, Retweets, Favorites, Verfied, User Since, Location, Bio, Google Maps, tweet-no-urls, rt?, #@, original]\n",
       "Index: []"
      ]
     },
     "execution_count": 145,
     "metadata": {},
     "output_type": "execute_result"
    }
   ],
   "source": [
    "df[df['Tweet ID'] == False]"
   ]
  },
  {
   "cell_type": "code",
   "execution_count": 146,
   "metadata": {},
   "outputs": [
    {
     "name": "stdout",
     "output_type": "stream",
     "text": [
      "{False, nan}\n"
     ]
    }
   ],
   "source": [
    "listOfIndex = set()\n",
    "for column in df.columns.values:\n",
    "    if df[column].dtype == 'O':\n",
    "        listOfIndex.update(df[column].str.contains(r'\\n', regex=True).values)\n",
    "    \n",
    "print(listOfIndex)\n"
   ]
  },
  {
   "cell_type": "code",
   "execution_count": 147,
   "metadata": {},
   "outputs": [
    {
     "data": {
      "text/html": [
       "<div>\n",
       "<style>\n",
       "    .dataframe thead tr:only-child th {\n",
       "        text-align: right;\n",
       "    }\n",
       "\n",
       "    .dataframe thead th {\n",
       "        text-align: left;\n",
       "    }\n",
       "\n",
       "    .dataframe tbody tr th {\n",
       "        vertical-align: top;\n",
       "    }\n",
       "</style>\n",
       "<table border=\"1\" class=\"dataframe\">\n",
       "  <thead>\n",
       "    <tr style=\"text-align: right;\">\n",
       "      <th></th>\n",
       "      <th>Date</th>\n",
       "      <th>Screen Name</th>\n",
       "      <th>Full Name</th>\n",
       "      <th>Tweet Text</th>\n",
       "      <th>Tweet ID</th>\n",
       "      <th>App</th>\n",
       "      <th>Followers</th>\n",
       "      <th>Follows</th>\n",
       "      <th>Retweets</th>\n",
       "      <th>Favorites</th>\n",
       "      <th>Verfied</th>\n",
       "      <th>User Since</th>\n",
       "      <th>Location</th>\n",
       "      <th>Bio</th>\n",
       "      <th>Google Maps</th>\n",
       "      <th>tweet-no-urls</th>\n",
       "      <th>rt?</th>\n",
       "      <th>#@</th>\n",
       "      <th>original</th>\n",
       "    </tr>\n",
       "  </thead>\n",
       "  <tbody>\n",
       "    <tr>\n",
       "      <th>13142</th>\n",
       "      <td>4.30.2017 21:49:12</td>\n",
       "      <td>@QuesoRicotta</td>\n",
       "      <td>genesis</td>\n",
       "      <td>RT @SaintJeanpi: Mera y como te va en la vida....</td>\n",
       "      <td>858875925517225985</td>\n",
       "      <td>Twitter Web Client</td>\n",
       "      <td>336</td>\n",
       "      <td>206</td>\n",
       "      <td>217</td>\n",
       "      <td>0</td>\n",
       "      <td>No</td>\n",
       "      <td>17.08.13</td>\n",
       "      <td>Guaynabicha</td>\n",
       "      <td>As long as everything is exactly the way I wan...</td>\n",
       "      <td>NaN</td>\n",
       "      <td>rt @saintjeanpi: mera y como te va en la vida....</td>\n",
       "      <td>False</td>\n",
       "      <td>1</td>\n",
       "      <td>True</td>\n",
       "    </tr>\n",
       "  </tbody>\n",
       "</table>\n",
       "</div>"
      ],
      "text/plain": [
       "                     Date    Screen Name Full Name  \\\n",
       "13142  4.30.2017 21:49:12  @QuesoRicotta   genesis   \n",
       "\n",
       "                                              Tweet Text            Tweet ID  \\\n",
       "13142  RT @SaintJeanpi: Mera y como te va en la vida....  858875925517225985   \n",
       "\n",
       "                      App  Followers  Follows  Retweets  Favorites Verfied  \\\n",
       "13142  Twitter Web Client        336      206       217          0      No   \n",
       "\n",
       "      User Since      Location  \\\n",
       "13142   17.08.13  Guaynabicha    \n",
       "\n",
       "                                                     Bio Google Maps  \\\n",
       "13142  As long as everything is exactly the way I wan...         NaN   \n",
       "\n",
       "                                           tweet-no-urls    rt?  #@  original  \n",
       "13142  rt @saintjeanpi: mera y como te va en la vida....  False   1      True  "
      ]
     },
     "execution_count": 147,
     "metadata": {},
     "output_type": "execute_result"
    }
   ],
   "source": [
    "df[df['Tweet ID'] == 858875925517225985]"
   ]
  },
  {
   "cell_type": "markdown",
   "metadata": {},
   "source": [
    "# Exporting file"
   ]
  },
  {
   "cell_type": "code",
   "execution_count": 148,
   "metadata": {
    "collapsed": true
   },
   "outputs": [],
   "source": [
    "df.to_csv('./first_round_depured.csv', sep=';', encoding='latin-1', index=False)"
   ]
  },
  {
   "cell_type": "code",
   "execution_count": null,
   "metadata": {
    "collapsed": true
   },
   "outputs": [],
   "source": []
  }
 ],
 "metadata": {
  "kernelspec": {
   "display_name": "Python 3",
   "language": "python",
   "name": "python3"
  },
  "language_info": {
   "codemirror_mode": {
    "name": "ipython",
    "version": 3
   },
   "file_extension": ".py",
   "mimetype": "text/x-python",
   "name": "python",
   "nbconvert_exporter": "python",
   "pygments_lexer": "ipython3",
   "version": "3.5.2"
  }
 },
 "nbformat": 4,
 "nbformat_minor": 2
}
