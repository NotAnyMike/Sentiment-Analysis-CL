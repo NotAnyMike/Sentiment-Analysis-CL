{
 "cells": [
  {
   "cell_type": "markdown",
   "metadata": {},
   "source": [
    "# CL PROJECT (Cleaning data)"
   ]
  },
  {
   "cell_type": "markdown",
   "metadata": {},
   "source": [
    "## Execute this only once"
   ]
  },
  {
   "cell_type": "code",
   "execution_count": 47,
   "metadata": {},
   "outputs": [
    {
     "name": "stdout",
     "output_type": "stream",
     "text": [
      "Requirement already satisfied: pandas in /Users/MikeW/.virtualenvs/CL3/lib/python3.5/site-packages\n",
      "Requirement already satisfied: numpy>=1.7.0 in /Users/MikeW/.virtualenvs/CL3/lib/python3.5/site-packages (from pandas)\n",
      "Requirement already satisfied: python-dateutil>=2 in /Users/MikeW/.virtualenvs/CL3/lib/python3.5/site-packages (from pandas)\n",
      "Requirement already satisfied: pytz>=2011k in /Users/MikeW/.virtualenvs/CL3/lib/python3.5/site-packages (from pandas)\n",
      "Requirement already satisfied: six>=1.5 in /Users/MikeW/.virtualenvs/CL3/lib/python3.5/site-packages (from python-dateutil>=2->pandas)\n",
      "Requirement already satisfied: nltk in /Users/MikeW/.virtualenvs/CL3/lib/python3.5/site-packages\n",
      "Requirement already satisfied: six in /Users/MikeW/.virtualenvs/CL3/lib/python3.5/site-packages (from nltk)\n",
      "Requirement already satisfied: ipdb in /Users/MikeW/.virtualenvs/CL3/lib/python3.5/site-packages\n",
      "Requirement already satisfied: setuptools in /Users/MikeW/.virtualenvs/CL3/lib/python3.5/site-packages (from ipdb)\n",
      "Requirement already satisfied: ipython>=0.10.2; python_version >= \"3.3\" in /Users/MikeW/.virtualenvs/CL3/lib/python3.5/site-packages (from ipdb)\n",
      "Requirement already satisfied: decorator in /Users/MikeW/.virtualenvs/CL3/lib/python3.5/site-packages (from ipython>=0.10.2; python_version >= \"3.3\"->ipdb)\n",
      "Requirement already satisfied: jedi>=0.10 in /Users/MikeW/.virtualenvs/CL3/lib/python3.5/site-packages (from ipython>=0.10.2; python_version >= \"3.3\"->ipdb)\n",
      "Requirement already satisfied: pexpect; sys_platform != \"win32\" in /Users/MikeW/.virtualenvs/CL3/lib/python3.5/site-packages (from ipython>=0.10.2; python_version >= \"3.3\"->ipdb)\n",
      "Requirement already satisfied: pickleshare in /Users/MikeW/.virtualenvs/CL3/lib/python3.5/site-packages (from ipython>=0.10.2; python_version >= \"3.3\"->ipdb)\n",
      "Requirement already satisfied: pygments in /Users/MikeW/.virtualenvs/CL3/lib/python3.5/site-packages (from ipython>=0.10.2; python_version >= \"3.3\"->ipdb)\n",
      "Requirement already satisfied: simplegeneric>0.8 in /Users/MikeW/.virtualenvs/CL3/lib/python3.5/site-packages (from ipython>=0.10.2; python_version >= \"3.3\"->ipdb)\n",
      "Requirement already satisfied: appnope; sys_platform == \"darwin\" in /Users/MikeW/.virtualenvs/CL3/lib/python3.5/site-packages (from ipython>=0.10.2; python_version >= \"3.3\"->ipdb)\n",
      "Requirement already satisfied: prompt-toolkit<2.0.0,>=1.0.4 in /Users/MikeW/.virtualenvs/CL3/lib/python3.5/site-packages (from ipython>=0.10.2; python_version >= \"3.3\"->ipdb)\n",
      "Requirement already satisfied: traitlets>=4.2 in /Users/MikeW/.virtualenvs/CL3/lib/python3.5/site-packages (from ipython>=0.10.2; python_version >= \"3.3\"->ipdb)\n",
      "Requirement already satisfied: ptyprocess>=0.5 in /Users/MikeW/.virtualenvs/CL3/lib/python3.5/site-packages (from pexpect; sys_platform != \"win32\"->ipython>=0.10.2; python_version >= \"3.3\"->ipdb)\n",
      "Requirement already satisfied: wcwidth in /Users/MikeW/.virtualenvs/CL3/lib/python3.5/site-packages (from prompt-toolkit<2.0.0,>=1.0.4->ipython>=0.10.2; python_version >= \"3.3\"->ipdb)\n",
      "Requirement already satisfied: six>=1.9.0 in /Users/MikeW/.virtualenvs/CL3/lib/python3.5/site-packages (from prompt-toolkit<2.0.0,>=1.0.4->ipython>=0.10.2; python_version >= \"3.3\"->ipdb)\n",
      "Requirement already satisfied: ipython-genutils in /Users/MikeW/.virtualenvs/CL3/lib/python3.5/site-packages (from traitlets>=4.2->ipython>=0.10.2; python_version >= \"3.3\"->ipdb)\n",
      "Requirement already satisfied: numpy in /Users/MikeW/.virtualenvs/CL3/lib/python3.5/site-packages\n",
      "Collecting scipy\n",
      "  Downloading scipy-0.19.1-cp35-cp35m-macosx_10_6_intel.macosx_10_9_intel.macosx_10_9_x86_64.macosx_10_10_intel.macosx_10_10_x86_64.whl (16.1MB)\n",
      "\u001b[K    100% |████████████████████████████████| 16.1MB 50kB/s eta 0:00:01\n",
      "\u001b[?25hRequirement already satisfied: numpy>=1.8.2 in /Users/MikeW/.virtualenvs/CL3/lib/python3.5/site-packages (from scipy)\n",
      "Installing collected packages: scipy\n",
      "Successfully installed scipy-0.19.1\n",
      "Requirement already satisfied: sklearn in /Users/MikeW/.virtualenvs/CL3/lib/python3.5/site-packages\n",
      "Requirement already satisfied: scikit-learn in /Users/MikeW/.virtualenvs/CL3/lib/python3.5/site-packages (from sklearn)\n"
     ]
    }
   ],
   "source": [
    "!pip install pandas\n",
    "!pip install nltk\n",
    "!pip install ipdb\n",
    "!pip install numpy\n",
    "!pip install scipy\n",
    "!pip install sklearn"
   ]
  },
  {
   "cell_type": "markdown",
   "metadata": {},
   "source": [
    "## Importing necessary libraries"
   ]
  },
  {
   "cell_type": "code",
   "execution_count": 158,
   "metadata": {},
   "outputs": [],
   "source": [
    "import pandas as pd\n",
    "import nltk\n",
    "import numpy as np\n",
    "from sklearn.model_selection import train_test_split\n",
    "from sklearn.ensemble import RandomForestClassifier\n",
    "from sklearn.svm import SVC\n",
    "from IPython.core.debugger import set_trace #in order to do debug\n",
    "import os #in order to make sounds"
   ]
  },
  {
   "cell_type": "markdown",
   "metadata": {},
   "source": [
    "# Creating necessary functions"
   ]
  },
  {
   "cell_type": "code",
   "execution_count": 3,
   "metadata": {
    "collapsed": true
   },
   "outputs": [],
   "source": [
    "def bip():\n",
    "    os.system(\"printf '\\a'\")"
   ]
  },
  {
   "cell_type": "markdown",
   "metadata": {},
   "source": [
    "## Loading data"
   ]
  },
  {
   "cell_type": "code",
   "execution_count": 15,
   "metadata": {
    "collapsed": true
   },
   "outputs": [],
   "source": [
    "df = pd.read_csv('./tweets.csv', sep=';',encoding='latin-1')\n",
    "del df['Profile Image']\n",
    "df = df.rename(columns={'tweet text':'Tweet text - no links', 'Positive for CL? 1=Yes, 0=No': 'category'});"
   ]
  },
  {
   "cell_type": "code",
   "execution_count": 16,
   "metadata": {},
   "outputs": [
    {
     "data": {
      "text/html": [
       "<div>\n",
       "<style>\n",
       "    .dataframe thead tr:only-child th {\n",
       "        text-align: right;\n",
       "    }\n",
       "\n",
       "    .dataframe thead th {\n",
       "        text-align: left;\n",
       "    }\n",
       "\n",
       "    .dataframe tbody tr th {\n",
       "        vertical-align: top;\n",
       "    }\n",
       "</style>\n",
       "<table border=\"1\" class=\"dataframe\">\n",
       "  <thead>\n",
       "    <tr style=\"text-align: right;\">\n",
       "      <th></th>\n",
       "      <th>Date</th>\n",
       "      <th>Screen Name</th>\n",
       "      <th>Full Name</th>\n",
       "      <th>Tweet Text</th>\n",
       "      <th>Tweet ID</th>\n",
       "      <th>App</th>\n",
       "      <th>Followers</th>\n",
       "      <th>Follows</th>\n",
       "      <th>Retweets</th>\n",
       "      <th>Favorites</th>\n",
       "      <th>Verfied</th>\n",
       "      <th>User Since</th>\n",
       "      <th>Location</th>\n",
       "      <th>Bio</th>\n",
       "      <th>Google Maps</th>\n",
       "      <th>Tweet text - no links</th>\n",
       "      <th>eq?</th>\n",
       "      <th>random</th>\n",
       "      <th>category</th>\n",
       "    </tr>\n",
       "  </thead>\n",
       "  <tbody>\n",
       "    <tr>\n",
       "      <th>0</th>\n",
       "      <td>26.05.17 14:09</td>\n",
       "      <td>@JLithium</td>\n",
       "      <td>Mateo H. Sanclemente</td>\n",
       "      <td>@jorgepatarroyo1 @ClaudiaLopez Aquel que lucha...</td>\n",
       "      <td>868212518879211000</td>\n",
       "      <td>Twitter for iPhone</td>\n",
       "      <td>115</td>\n",
       "      <td>239</td>\n",
       "      <td>0</td>\n",
       "      <td>0</td>\n",
       "      <td>No</td>\n",
       "      <td>30.10.2010</td>\n",
       "      <td>Bogot, Colombia</td>\n",
       "      <td>I've got Nothing to lose!</td>\n",
       "      <td>NaN</td>\n",
       "      <td>@jorgepatarroyo1 @claudialopez aquel que lucha...</td>\n",
       "      <td>FALSCH</td>\n",
       "      <td>1,47796E-05</td>\n",
       "      <td>1</td>\n",
       "    </tr>\n",
       "    <tr>\n",
       "      <th>1</th>\n",
       "      <td>30.05.17 13:38</td>\n",
       "      <td>@simedi21</td>\n",
       "      <td>cecilia lozano</td>\n",
       "      <td>RT @PerrofantasmaBO: @WRadioColombia @ClaudiaL...</td>\n",
       "      <td>869654185729556000</td>\n",
       "      <td>Twitter for iPhone</td>\n",
       "      <td>402</td>\n",
       "      <td>250</td>\n",
       "      <td>1</td>\n",
       "      <td>0</td>\n",
       "      <td>No</td>\n",
       "      <td>18.04.2014</td>\n",
       "      <td>NaN</td>\n",
       "      <td>NaN</td>\n",
       "      <td>NaN</td>\n",
       "      <td>rt @perrofantasmabo: @wradiocolombia @claudial...</td>\n",
       "      <td>FALSCH</td>\n",
       "      <td>5,38497E-05</td>\n",
       "      <td>0</td>\n",
       "    </tr>\n",
       "    <tr>\n",
       "      <th>2</th>\n",
       "      <td>27.05.17 20:47</td>\n",
       "      <td>@gualo1001</td>\n",
       "      <td>oswaldo trejos rios</td>\n",
       "      <td>@Camilabaron26 @galloalex23 @ChavezTrump @Vick...</td>\n",
       "      <td>868675105613860000</td>\n",
       "      <td>Twitter Web Client</td>\n",
       "      <td>877</td>\n",
       "      <td>1691</td>\n",
       "      <td>0</td>\n",
       "      <td>0</td>\n",
       "      <td>No</td>\n",
       "      <td>02.12.2009</td>\n",
       "      <td>colombia</td>\n",
       "      <td>ahora sigue la batalla mas dura el ascenso de ...</td>\n",
       "      <td>NaN</td>\n",
       "      <td>@camilabaron26 @galloalex23 @chaveztrump @vick...</td>\n",
       "      <td>FALSCH</td>\n",
       "      <td>0,000184607</td>\n",
       "      <td>0</td>\n",
       "    </tr>\n",
       "    <tr>\n",
       "      <th>3</th>\n",
       "      <td>30.05.17 13:37</td>\n",
       "      <td>@simedi21</td>\n",
       "      <td>cecilia lozano</td>\n",
       "      <td>@WRadioColombia @ClaudiaLopez LAS CONFISCADAS ...</td>\n",
       "      <td>869654122408136000</td>\n",
       "      <td>Twitter for iPhone</td>\n",
       "      <td>402</td>\n",
       "      <td>250</td>\n",
       "      <td>0</td>\n",
       "      <td>0</td>\n",
       "      <td>No</td>\n",
       "      <td>18.04.2014</td>\n",
       "      <td>NaN</td>\n",
       "      <td>NaN</td>\n",
       "      <td>NaN</td>\n",
       "      <td>@wradiocolombia @claudialopez las confiscadas ...</td>\n",
       "      <td>FALSCH</td>\n",
       "      <td>0,000467444</td>\n",
       "      <td>0</td>\n",
       "    </tr>\n",
       "    <tr>\n",
       "      <th>4</th>\n",
       "      <td>25.05.17 16:59</td>\n",
       "      <td>@gusgomez1701</td>\n",
       "      <td>GustavoGmezCrdoba</td>\n",
       "      <td>@andresdiaz8527 @LaLuciernaga @DianaCalderonF ...</td>\n",
       "      <td>867892970594467000</td>\n",
       "      <td>Twitter Web Client</td>\n",
       "      <td>404299</td>\n",
       "      <td>8689</td>\n",
       "      <td>0</td>\n",
       "      <td>0</td>\n",
       "      <td>No</td>\n",
       "      <td>16.02.2011</td>\n",
       "      <td>NaN</td>\n",
       "      <td>Repblica. Imperio de la ley. Democracia. Libr...</td>\n",
       "      <td>NaN</td>\n",
       "      <td>@andresdiaz8527 @laluciernaga @dianacalderonf ...</td>\n",
       "      <td>FALSCH</td>\n",
       "      <td>0,000719656</td>\n",
       "      <td>1</td>\n",
       "    </tr>\n",
       "  </tbody>\n",
       "</table>\n",
       "</div>"
      ],
      "text/plain": [
       "             Date    Screen Name             Full Name  \\\n",
       "0  26.05.17 14:09      @JLithium  Mateo H. Sanclemente   \n",
       "1  30.05.17 13:38      @simedi21        cecilia lozano   \n",
       "2  27.05.17 20:47     @gualo1001   oswaldo trejos rios   \n",
       "3  30.05.17 13:37      @simedi21        cecilia lozano   \n",
       "4  25.05.17 16:59  @gusgomez1701   GustavoGmezCrdoba   \n",
       "\n",
       "                                          Tweet Text            Tweet ID  \\\n",
       "0  @jorgepatarroyo1 @ClaudiaLopez Aquel que lucha...  868212518879211000   \n",
       "1  RT @PerrofantasmaBO: @WRadioColombia @ClaudiaL...  869654185729556000   \n",
       "2  @Camilabaron26 @galloalex23 @ChavezTrump @Vick...  868675105613860000   \n",
       "3  @WRadioColombia @ClaudiaLopez LAS CONFISCADAS ...  869654122408136000   \n",
       "4  @andresdiaz8527 @LaLuciernaga @DianaCalderonF ...  867892970594467000   \n",
       "\n",
       "                  App  Followers  Follows  Retweets  Favorites Verfied  \\\n",
       "0  Twitter for iPhone        115      239         0          0      No   \n",
       "1  Twitter for iPhone        402      250         1          0      No   \n",
       "2  Twitter Web Client        877     1691         0          0      No   \n",
       "3  Twitter for iPhone        402      250         0          0      No   \n",
       "4  Twitter Web Client     404299     8689         0          0      No   \n",
       "\n",
       "   User Since          Location  \\\n",
       "0  30.10.2010  Bogot, Colombia   \n",
       "1  18.04.2014               NaN   \n",
       "2  02.12.2009          colombia   \n",
       "3  18.04.2014               NaN   \n",
       "4  16.02.2011               NaN   \n",
       "\n",
       "                                                 Bio Google Maps  \\\n",
       "0                          I've got Nothing to lose!         NaN   \n",
       "1                                                NaN         NaN   \n",
       "2  ahora sigue la batalla mas dura el ascenso de ...         NaN   \n",
       "3                                                NaN         NaN   \n",
       "4  Repblica. Imperio de la ley. Democracia. Libr...         NaN   \n",
       "\n",
       "                               Tweet text - no links     eq?       random  \\\n",
       "0  @jorgepatarroyo1 @claudialopez aquel que lucha...  FALSCH  1,47796E-05   \n",
       "1  rt @perrofantasmabo: @wradiocolombia @claudial...  FALSCH  5,38497E-05   \n",
       "2  @camilabaron26 @galloalex23 @chaveztrump @vick...  FALSCH  0,000184607   \n",
       "3  @wradiocolombia @claudialopez las confiscadas ...  FALSCH  0,000467444   \n",
       "4  @andresdiaz8527 @laluciernaga @dianacalderonf ...  FALSCH  0,000719656   \n",
       "\n",
       "   category  \n",
       "0         1  \n",
       "1         0  \n",
       "2         0  \n",
       "3         0  \n",
       "4         1  "
      ]
     },
     "execution_count": 16,
     "metadata": {},
     "output_type": "execute_result"
    }
   ],
   "source": [
    "df.head()"
   ]
  },
  {
   "cell_type": "markdown",
   "metadata": {},
   "source": [
    "##### show any NaN in category"
   ]
  },
  {
   "cell_type": "code",
   "execution_count": 17,
   "metadata": {},
   "outputs": [
    {
     "data": {
      "text/html": [
       "<div>\n",
       "<style>\n",
       "    .dataframe thead tr:only-child th {\n",
       "        text-align: right;\n",
       "    }\n",
       "\n",
       "    .dataframe thead th {\n",
       "        text-align: left;\n",
       "    }\n",
       "\n",
       "    .dataframe tbody tr th {\n",
       "        vertical-align: top;\n",
       "    }\n",
       "</style>\n",
       "<table border=\"1\" class=\"dataframe\">\n",
       "  <thead>\n",
       "    <tr style=\"text-align: right;\">\n",
       "      <th></th>\n",
       "      <th>Date</th>\n",
       "      <th>Screen Name</th>\n",
       "      <th>Full Name</th>\n",
       "      <th>Tweet Text</th>\n",
       "      <th>Tweet ID</th>\n",
       "      <th>App</th>\n",
       "      <th>Followers</th>\n",
       "      <th>Follows</th>\n",
       "      <th>Retweets</th>\n",
       "      <th>Favorites</th>\n",
       "      <th>Verfied</th>\n",
       "      <th>User Since</th>\n",
       "      <th>Location</th>\n",
       "      <th>Bio</th>\n",
       "      <th>Google Maps</th>\n",
       "      <th>Tweet text - no links</th>\n",
       "      <th>eq?</th>\n",
       "      <th>random</th>\n",
       "      <th>category</th>\n",
       "    </tr>\n",
       "  </thead>\n",
       "  <tbody>\n",
       "  </tbody>\n",
       "</table>\n",
       "</div>"
      ],
      "text/plain": [
       "Empty DataFrame\n",
       "Columns: [Date, Screen Name, Full Name, Tweet Text, Tweet ID, App, Followers, Follows, Retweets, Favorites, Verfied, User Since, Location, Bio, Google Maps, Tweet text - no links, eq?, random, category]\n",
       "Index: []"
      ]
     },
     "execution_count": 17,
     "metadata": {},
     "output_type": "execute_result"
    }
   ],
   "source": [
    "df[df['category'].isnull()]"
   ]
  },
  {
   "cell_type": "markdown",
   "metadata": {},
   "source": [
    "##### showing unique values of category"
   ]
  },
  {
   "cell_type": "code",
   "execution_count": 18,
   "metadata": {},
   "outputs": [
    {
     "data": {
      "text/plain": [
       "array([1, 0])"
      ]
     },
     "execution_count": 18,
     "metadata": {},
     "output_type": "execute_result"
    }
   ],
   "source": [
    "df['category'].unique()"
   ]
  },
  {
   "cell_type": "code",
   "execution_count": 19,
   "metadata": {},
   "outputs": [
    {
     "data": {
      "text/html": [
       "<div>\n",
       "<style>\n",
       "    .dataframe thead tr:only-child th {\n",
       "        text-align: right;\n",
       "    }\n",
       "\n",
       "    .dataframe thead th {\n",
       "        text-align: left;\n",
       "    }\n",
       "\n",
       "    .dataframe tbody tr th {\n",
       "        vertical-align: top;\n",
       "    }\n",
       "</style>\n",
       "<table border=\"1\" class=\"dataframe\">\n",
       "  <thead>\n",
       "    <tr style=\"text-align: right;\">\n",
       "      <th></th>\n",
       "      <th>Tweet ID</th>\n",
       "      <th>Followers</th>\n",
       "      <th>Follows</th>\n",
       "      <th>Retweets</th>\n",
       "      <th>Favorites</th>\n",
       "      <th>category</th>\n",
       "    </tr>\n",
       "  </thead>\n",
       "  <tbody>\n",
       "    <tr>\n",
       "      <th>count</th>\n",
       "      <td>6.250000e+03</td>\n",
       "      <td>6.250000e+03</td>\n",
       "      <td>6250.000000</td>\n",
       "      <td>6250.000000</td>\n",
       "      <td>6250.000000</td>\n",
       "      <td>6250.000000</td>\n",
       "    </tr>\n",
       "    <tr>\n",
       "      <th>mean</th>\n",
       "      <td>8.693529e+17</td>\n",
       "      <td>5.655797e+03</td>\n",
       "      <td>760.284000</td>\n",
       "      <td>7.297440</td>\n",
       "      <td>0.497120</td>\n",
       "      <td>0.301760</td>\n",
       "    </tr>\n",
       "    <tr>\n",
       "      <th>std</th>\n",
       "      <td>1.390618e+15</td>\n",
       "      <td>9.076204e+04</td>\n",
       "      <td>1887.971456</td>\n",
       "      <td>98.302997</td>\n",
       "      <td>4.577395</td>\n",
       "      <td>0.459058</td>\n",
       "    </tr>\n",
       "    <tr>\n",
       "      <th>min</th>\n",
       "      <td>8.675255e+17</td>\n",
       "      <td>0.000000e+00</td>\n",
       "      <td>0.000000</td>\n",
       "      <td>0.000000</td>\n",
       "      <td>0.000000</td>\n",
       "      <td>0.000000</td>\n",
       "    </tr>\n",
       "    <tr>\n",
       "      <th>25%</th>\n",
       "      <td>8.679492e+17</td>\n",
       "      <td>4.300000e+01</td>\n",
       "      <td>111.000000</td>\n",
       "      <td>0.000000</td>\n",
       "      <td>0.000000</td>\n",
       "      <td>0.000000</td>\n",
       "    </tr>\n",
       "    <tr>\n",
       "      <th>50%</th>\n",
       "      <td>8.692720e+17</td>\n",
       "      <td>1.410000e+02</td>\n",
       "      <td>282.000000</td>\n",
       "      <td>0.000000</td>\n",
       "      <td>0.000000</td>\n",
       "      <td>0.000000</td>\n",
       "    </tr>\n",
       "    <tr>\n",
       "      <th>75%</th>\n",
       "      <td>8.705842e+17</td>\n",
       "      <td>4.677500e+02</td>\n",
       "      <td>699.750000</td>\n",
       "      <td>0.000000</td>\n",
       "      <td>0.000000</td>\n",
       "      <td>1.000000</td>\n",
       "    </tr>\n",
       "    <tr>\n",
       "      <th>max</th>\n",
       "      <td>8.718893e+17</td>\n",
       "      <td>3.207143e+06</td>\n",
       "      <td>45714.000000</td>\n",
       "      <td>3729.000000</td>\n",
       "      <td>164.000000</td>\n",
       "      <td>1.000000</td>\n",
       "    </tr>\n",
       "  </tbody>\n",
       "</table>\n",
       "</div>"
      ],
      "text/plain": [
       "           Tweet ID     Followers       Follows     Retweets    Favorites  \\\n",
       "count  6.250000e+03  6.250000e+03   6250.000000  6250.000000  6250.000000   \n",
       "mean   8.693529e+17  5.655797e+03    760.284000     7.297440     0.497120   \n",
       "std    1.390618e+15  9.076204e+04   1887.971456    98.302997     4.577395   \n",
       "min    8.675255e+17  0.000000e+00      0.000000     0.000000     0.000000   \n",
       "25%    8.679492e+17  4.300000e+01    111.000000     0.000000     0.000000   \n",
       "50%    8.692720e+17  1.410000e+02    282.000000     0.000000     0.000000   \n",
       "75%    8.705842e+17  4.677500e+02    699.750000     0.000000     0.000000   \n",
       "max    8.718893e+17  3.207143e+06  45714.000000  3729.000000   164.000000   \n",
       "\n",
       "          category  \n",
       "count  6250.000000  \n",
       "mean      0.301760  \n",
       "std       0.459058  \n",
       "min       0.000000  \n",
       "25%       0.000000  \n",
       "50%       0.000000  \n",
       "75%       1.000000  \n",
       "max       1.000000  "
      ]
     },
     "execution_count": 19,
     "metadata": {},
     "output_type": "execute_result"
    }
   ],
   "source": [
    "df.describe()"
   ]
  },
  {
   "cell_type": "markdown",
   "metadata": {},
   "source": [
    "# Feature Extraction"
   ]
  },
  {
   "cell_type": "markdown",
   "metadata": {},
   "source": [
    "## Cleanup"
   ]
  },
  {
   "cell_type": "markdown",
   "metadata": {},
   "source": [
    "### Removing emojis punctuation, digits and accents\n",
    "\n",
    "removing:\n",
    "* @(),.;:-_!¡?¿&\"'=#$\\%/*+\\{\\}\\[\\] and unecessary spaces\n",
    "* numbers\n",
    "* áéíóú and also àèìòù\n",
    "* Change emojis to avoid replacement\n",
    "\n",
    "regex: `[^a-zA-Z ]+`"
   ]
  },
  {
   "cell_type": "code",
   "execution_count": 20,
   "metadata": {},
   "outputs": [],
   "source": [
    "#df['clean-text'] = df['Tweet text - no links'].str.lower() \\\n",
    "#    .str.replace(r'\\(|\\)|,|\\.|;|\\:|-|_|!|¡|\\?|\\¿|@|&|\\\"|\\'|\\=|#|$|%|/|\\*|\\+|\\{|\\}|\\[|\\]', '') \\\n",
    "\n",
    "#Creating function\n",
    "def leave_only_letters(series):\n",
    "    #changing emojis\n",
    "    #TODO\n",
    "    \n",
    "    #Removing puntuation\n",
    "    series = series.str.lower().str.replace(r'[^a-zA-Z ]+','') \\\n",
    "        .str.replace(r' {2,}',' ')\n",
    "        \n",
    "    #Removing digits\n",
    "    series = series.str.replace(r'\\d','')\n",
    "    \n",
    "    #Removing accents\n",
    "    series = series.str.replace(r'á|à','a') \\\n",
    "        .str.replace(r'é|è','e') \\\n",
    "        .str.replace(r'í|ì','i') \\\n",
    "        .str.replace(r'ó|ò','o') \\\n",
    "        .str.replace(r'ú|ù','u')\n",
    "        \n",
    "    return series\n",
    "        \n",
    "df['clean-text'] = leave_only_letters(df['Tweet text - no links'])\n"
   ]
  },
  {
   "cell_type": "markdown",
   "metadata": {},
   "source": [
    "### Removing stop words\n",
    "\n",
    "such as 'en', 'la', 'el', etc"
   ]
  },
  {
   "cell_type": "code",
   "execution_count": 21,
   "metadata": {},
   "outputs": [],
   "source": [
    "def remove_stop_words(series):\n",
    "    stop = nltk.corpus.stopwords.words('spanish')\n",
    "    return series.apply(lambda text : ' '.join([word for word in text.split() if word not in stop]))\n",
    "\n",
    "df['clean-text'] = remove_stop_words(df['clean-text'])"
   ]
  },
  {
   "cell_type": "markdown",
   "metadata": {},
   "source": [
    "### Stemming words\n",
    "\n",
    "Using `SnowballStemmer` from `nltk`"
   ]
  },
  {
   "cell_type": "code",
   "execution_count": 22,
   "metadata": {},
   "outputs": [],
   "source": [
    "def stem(series):\n",
    "    stemmer = nltk.stem.snowball.SnowballStemmer('spanish')\n",
    "    return series.apply(lambda text: ' '.join([stemmer.stem(word) for word in text.split()]))\n",
    "\n",
    "df['clean-text'] = stem(df['clean-text'])"
   ]
  },
  {
   "cell_type": "markdown",
   "metadata": {},
   "source": [
    "# Feature Engineering (Categorical Proportional Differences)\n",
    "\n",
    "The idea here is to create the features which will be used in the SVM algorithm, but there are some problems,\n",
    "\n",
    "## Problems\n",
    "### Problems not solved\n",
    "1. for example `[clau, claudia, claud, claudialopez]` or between `[colom, colomb, colombi]` are recognized as different words, it would be nice to merge all those words, there is a process similar to stem process which conserves the readibility of the words, it could work\n",
    "2. Some words have a CPD of 1 or -1, that's because are weird words that only appear twice or three times around all examples, therefore will have a very high CPD\n",
    "3. There are some examples where a feature does not appear nor in A or in B, for example `gallinaz` or `otroshabl`\n",
    "\n",
    "### Problems solved\n",
    "* removing one or two letter words\n",
    "\n",
    "\n",
    "## Creating list of features (i.e. words)"
   ]
  },
  {
   "cell_type": "code",
   "execution_count": 23,
   "metadata": {
    "collapsed": true
   },
   "outputs": [],
   "source": [
    "all_features = set()"
   ]
  },
  {
   "cell_type": "code",
   "execution_count": 24,
   "metadata": {
    "collapsed": true
   },
   "outputs": [],
   "source": [
    "df['clean-text'].str.lower().str.split().apply(all_features.update);"
   ]
  },
  {
   "cell_type": "markdown",
   "metadata": {},
   "source": [
    "### Removing one or two letter words"
   ]
  },
  {
   "cell_type": "code",
   "execution_count": 25,
   "metadata": {
    "collapsed": true
   },
   "outputs": [],
   "source": [
    "all_features = set([word for word in all_features if len(word) > 3]);"
   ]
  },
  {
   "cell_type": "markdown",
   "metadata": {},
   "source": [
    "### Creating data frame from which to create the CPD\n",
    "\n",
    "the values A,B,C,D (undercased) will be based on the following table\n",
    "\n",
    " | $c$ | $\\neg c$\n",
    "---|---|---\n",
    "$w$ | A | B\n",
    "$\\neg w$ | C | D\n",
    "\n",
    "Where $c$ is if `category` is true (i.e. is positive) and $w$ is whether the `specific feature` is in the tweet or not"
   ]
  },
  {
   "cell_type": "code",
   "execution_count": 26,
   "metadata": {
    "collapsed": true
   },
   "outputs": [],
   "source": [
    "cpd = pd.DataFrame(index=all_features, columns=['a','b','c','d','total','cpd','wcpd','abs-wcpd'])\n",
    "cpd = cpd.fillna(0)"
   ]
  },
  {
   "cell_type": "markdown",
   "metadata": {},
   "source": [
    "### Creating functions needed in the algorithm"
   ]
  },
  {
   "cell_type": "code",
   "execution_count": 27,
   "metadata": {
    "collapsed": true
   },
   "outputs": [],
   "source": [
    "def count(feature, cpd, df):\n",
    "    #cpd[feature.name]['a']\n",
    "    contain = df['category'][df['clean-text'].str.contains(feature.name) == True]\n",
    "    not_contain = df['category'][df['clean-text'].str.contains(feature.name) == False]\n",
    "    \n",
    "    #set_trace()\n",
    "    contain_count = contain.count()\n",
    "    not_contain_count = not_contain.count()\n",
    "    contain_positive = contain[contain == 1].count()\n",
    "    not_contain_positive = not_contain[not_contain == 1].count()\n",
    "    \n",
    "    cpd.loc[feature.name,'a'] = contain_positive\n",
    "    cpd.loc[feature.name,'b'] = contain_count - contain_positive\n",
    "    cpd.loc[feature.name,'c'] = not_contain_positive\n",
    "    cpd.loc[feature.name,'d'] = not_contain_count - not_contain_positive\n",
    "    \n",
    "    \n",
    "    cpd.loc[feature.name,'total'] = cpd.loc[feature.name,'d'] + cpd.loc[feature.name,'c'] + cpd.loc[feature.name,'b'] + cpd.loc[feature.name,'a']\n",
    "    \n",
    "    if cpd.loc[feature.name,'a'] + cpd.loc[feature.name,'b'] == 0:\n",
    "        cpd.loc[feature.name,'cpd'] = np.nan\n",
    "    else:\n",
    "        cpd.loc[feature.name,'cpd'] = (cpd.loc[feature.name,'a'] - cpd.loc[feature.name,'b']) / (cpd.loc[feature.name,'a']+cpd.loc[feature.name,'b'])\n"
   ]
  },
  {
   "cell_type": "code",
   "execution_count": 28,
   "metadata": {
    "collapsed": true
   },
   "outputs": [],
   "source": [
    "#%time cpd[:].apply(count, axis=1, raw=False, cpd=cpd, df=df);\n",
    "cpd[:].apply(count, axis=1, raw=False, cpd=cpd, df=df);\n",
    "\n",
    "bip()"
   ]
  },
  {
   "cell_type": "markdown",
   "metadata": {
    "collapsed": true
   },
   "source": [
    "### Select the most important features\n",
    "It depends on the policy used, tentatively I will use Weighted Categorial Proportional Difference (WCPD), what WCPD does is that weight the CPD index by the number of times that the word appears, that is $(A+B)/(A+B+C+D)$ now that words that have a very high CPD but participate almost never in the examples won't be taken into account."
   ]
  },
  {
   "cell_type": "markdown",
   "metadata": {},
   "source": [
    "#### Running WCPD"
   ]
  },
  {
   "cell_type": "code",
   "execution_count": 29,
   "metadata": {
    "collapsed": true
   },
   "outputs": [],
   "source": [
    "cpd['wcpd'] = cpd['cpd']*(cpd['a']+cpd['b'])/cpd['total'];\n",
    "cpd['abs-wcpd'] = cpd['wcpd'].abs();"
   ]
  },
  {
   "cell_type": "code",
   "execution_count": 30,
   "metadata": {
    "collapsed": true
   },
   "outputs": [],
   "source": [
    "cpd.sort_values('abs-wcpd', ascending=False, inplace=True)"
   ]
  },
  {
   "cell_type": "markdown",
   "metadata": {},
   "source": [
    "### Create a dataframe \n",
    "with columns 'tweet id', [features*] and with category and then divide them into the $X$ and $y$ sets. Lets take the same the first 1000 features with the highest wcpd\n",
    "\n",
    "#### What is shoud do is:\n",
    "* Create a df with the id of the tweet and as columns the 1000 highest wcpd features (i.e. words)\n",
    "* Get the ids of the tweets (the examples)\n",
    "* For each feature say whether the tweet has or no that feature and add it to the new df"
   ]
  },
  {
   "cell_type": "code",
   "execution_count": 48,
   "metadata": {
    "collapsed": true
   },
   "outputs": [],
   "source": [
    "df_rf = pd.DataFrame(index=df['Tweet ID'], columns=cpd[:1000].index)"
   ]
  },
  {
   "cell_type": "markdown",
   "metadata": {},
   "source": [
    "##### Function in order to populate df_rf"
   ]
  },
  {
   "cell_type": "code",
   "execution_count": 49,
   "metadata": {
    "collapsed": true
   },
   "outputs": [],
   "source": [
    "def populator(feature, df, df_rf):\n",
    "    contains = pd.Series(df['clean-text'].apply(lambda x : feature.name in x).values,index=df['Tweet ID'])\n",
    "    df_rf.loc[:,feature.name] = contains"
   ]
  },
  {
   "cell_type": "markdown",
   "metadata": {},
   "source": [
    "##### Populating"
   ]
  },
  {
   "cell_type": "code",
   "execution_count": 51,
   "metadata": {},
   "outputs": [],
   "source": [
    "df_rf.sort_index(inplace=True, ascending=True);\n",
    "df.sort_values('Tweet ID', inplace=True, ascending=True);\n",
    "\n",
    "df_rf.apply(populator, axis=0, raw=False, df=df, df_rf=df_rf);\n",
    "bip()"
   ]
  },
  {
   "cell_type": "code",
   "execution_count": 52,
   "metadata": {},
   "outputs": [
    {
     "data": {
      "text/html": [
       "<div>\n",
       "<style>\n",
       "    .dataframe thead tr:only-child th {\n",
       "        text-align: right;\n",
       "    }\n",
       "\n",
       "    .dataframe thead th {\n",
       "        text-align: left;\n",
       "    }\n",
       "\n",
       "    .dataframe tbody tr th {\n",
       "        vertical-align: top;\n",
       "    }\n",
       "</style>\n",
       "<table border=\"1\" class=\"dataframe\">\n",
       "  <thead>\n",
       "    <tr style=\"text-align: right;\">\n",
       "      <th></th>\n",
       "      <th>claudi</th>\n",
       "      <th>clau</th>\n",
       "      <th>claud</th>\n",
       "      <th>audi</th>\n",
       "      <th>claudialopez</th>\n",
       "      <th>lopez</th>\n",
       "      <th>petr</th>\n",
       "      <th>gust</th>\n",
       "      <th>gustav</th>\n",
       "      <th>juan</th>\n",
       "      <th>...</th>\n",
       "      <th>tont</th>\n",
       "      <th>williamfarfanm</th>\n",
       "      <th>beln</th>\n",
       "      <th>pierd</th>\n",
       "      <th>cafesalud</th>\n",
       "      <th>mald</th>\n",
       "      <th>danielrm</th>\n",
       "      <th>histori</th>\n",
       "      <th>adel</th>\n",
       "      <th>simontrinifarb</th>\n",
       "    </tr>\n",
       "    <tr>\n",
       "      <th>Tweet ID</th>\n",
       "      <th></th>\n",
       "      <th></th>\n",
       "      <th></th>\n",
       "      <th></th>\n",
       "      <th></th>\n",
       "      <th></th>\n",
       "      <th></th>\n",
       "      <th></th>\n",
       "      <th></th>\n",
       "      <th></th>\n",
       "      <th></th>\n",
       "      <th></th>\n",
       "      <th></th>\n",
       "      <th></th>\n",
       "      <th></th>\n",
       "      <th></th>\n",
       "      <th></th>\n",
       "      <th></th>\n",
       "      <th></th>\n",
       "      <th></th>\n",
       "      <th></th>\n",
       "    </tr>\n",
       "  </thead>\n",
       "  <tbody>\n",
       "    <tr>\n",
       "      <th>867525452486897000</th>\n",
       "      <td>True</td>\n",
       "      <td>True</td>\n",
       "      <td>True</td>\n",
       "      <td>True</td>\n",
       "      <td>True</td>\n",
       "      <td>True</td>\n",
       "      <td>False</td>\n",
       "      <td>False</td>\n",
       "      <td>False</td>\n",
       "      <td>False</td>\n",
       "      <td>...</td>\n",
       "      <td>False</td>\n",
       "      <td>False</td>\n",
       "      <td>False</td>\n",
       "      <td>False</td>\n",
       "      <td>False</td>\n",
       "      <td>False</td>\n",
       "      <td>False</td>\n",
       "      <td>False</td>\n",
       "      <td>False</td>\n",
       "      <td>False</td>\n",
       "    </tr>\n",
       "    <tr>\n",
       "      <th>867525472112050000</th>\n",
       "      <td>True</td>\n",
       "      <td>True</td>\n",
       "      <td>True</td>\n",
       "      <td>True</td>\n",
       "      <td>True</td>\n",
       "      <td>True</td>\n",
       "      <td>False</td>\n",
       "      <td>False</td>\n",
       "      <td>False</td>\n",
       "      <td>False</td>\n",
       "      <td>...</td>\n",
       "      <td>False</td>\n",
       "      <td>False</td>\n",
       "      <td>False</td>\n",
       "      <td>False</td>\n",
       "      <td>False</td>\n",
       "      <td>False</td>\n",
       "      <td>False</td>\n",
       "      <td>False</td>\n",
       "      <td>False</td>\n",
       "      <td>False</td>\n",
       "    </tr>\n",
       "    <tr>\n",
       "      <th>867525505570000000</th>\n",
       "      <td>True</td>\n",
       "      <td>True</td>\n",
       "      <td>True</td>\n",
       "      <td>True</td>\n",
       "      <td>True</td>\n",
       "      <td>True</td>\n",
       "      <td>False</td>\n",
       "      <td>False</td>\n",
       "      <td>False</td>\n",
       "      <td>False</td>\n",
       "      <td>...</td>\n",
       "      <td>False</td>\n",
       "      <td>False</td>\n",
       "      <td>False</td>\n",
       "      <td>False</td>\n",
       "      <td>False</td>\n",
       "      <td>False</td>\n",
       "      <td>False</td>\n",
       "      <td>False</td>\n",
       "      <td>False</td>\n",
       "      <td>False</td>\n",
       "    </tr>\n",
       "    <tr>\n",
       "      <th>867525520036163000</th>\n",
       "      <td>True</td>\n",
       "      <td>True</td>\n",
       "      <td>True</td>\n",
       "      <td>True</td>\n",
       "      <td>True</td>\n",
       "      <td>True</td>\n",
       "      <td>False</td>\n",
       "      <td>False</td>\n",
       "      <td>False</td>\n",
       "      <td>False</td>\n",
       "      <td>...</td>\n",
       "      <td>False</td>\n",
       "      <td>False</td>\n",
       "      <td>False</td>\n",
       "      <td>False</td>\n",
       "      <td>False</td>\n",
       "      <td>False</td>\n",
       "      <td>False</td>\n",
       "      <td>False</td>\n",
       "      <td>False</td>\n",
       "      <td>False</td>\n",
       "    </tr>\n",
       "    <tr>\n",
       "      <th>867525558728568000</th>\n",
       "      <td>True</td>\n",
       "      <td>True</td>\n",
       "      <td>True</td>\n",
       "      <td>True</td>\n",
       "      <td>True</td>\n",
       "      <td>True</td>\n",
       "      <td>False</td>\n",
       "      <td>False</td>\n",
       "      <td>False</td>\n",
       "      <td>False</td>\n",
       "      <td>...</td>\n",
       "      <td>False</td>\n",
       "      <td>False</td>\n",
       "      <td>False</td>\n",
       "      <td>False</td>\n",
       "      <td>False</td>\n",
       "      <td>False</td>\n",
       "      <td>False</td>\n",
       "      <td>False</td>\n",
       "      <td>False</td>\n",
       "      <td>False</td>\n",
       "    </tr>\n",
       "  </tbody>\n",
       "</table>\n",
       "<p>5 rows × 1000 columns</p>\n",
       "</div>"
      ],
      "text/plain": [
       "                    claudi  clau  claud  audi  claudialopez  lopez   petr  \\\n",
       "Tweet ID                                                                    \n",
       "867525452486897000    True  True   True  True          True   True  False   \n",
       "867525472112050000    True  True   True  True          True   True  False   \n",
       "867525505570000000    True  True   True  True          True   True  False   \n",
       "867525520036163000    True  True   True  True          True   True  False   \n",
       "867525558728568000    True  True   True  True          True   True  False   \n",
       "\n",
       "                     gust  gustav   juan       ...         tont  \\\n",
       "Tweet ID                                       ...                \n",
       "867525452486897000  False   False  False       ...        False   \n",
       "867525472112050000  False   False  False       ...        False   \n",
       "867525505570000000  False   False  False       ...        False   \n",
       "867525520036163000  False   False  False       ...        False   \n",
       "867525558728568000  False   False  False       ...        False   \n",
       "\n",
       "                    williamfarfanm   beln  pierd  cafesalud   mald  danielrm  \\\n",
       "Tweet ID                                                                       \n",
       "867525452486897000           False  False  False      False  False     False   \n",
       "867525472112050000           False  False  False      False  False     False   \n",
       "867525505570000000           False  False  False      False  False     False   \n",
       "867525520036163000           False  False  False      False  False     False   \n",
       "867525558728568000           False  False  False      False  False     False   \n",
       "\n",
       "                    histori   adel  simontrinifarb  \n",
       "Tweet ID                                            \n",
       "867525452486897000    False  False           False  \n",
       "867525472112050000    False  False           False  \n",
       "867525505570000000    False  False           False  \n",
       "867525520036163000    False  False           False  \n",
       "867525558728568000    False  False           False  \n",
       "\n",
       "[5 rows x 1000 columns]"
      ]
     },
     "execution_count": 52,
     "metadata": {},
     "output_type": "execute_result"
    }
   ],
   "source": [
    "df_rf.head()"
   ]
  },
  {
   "cell_type": "markdown",
   "metadata": {},
   "source": [
    "# Random Forest\n",
    "Run a random forest in order to get up to 10.000 training examples, only accept new examples with 90%+ certanty"
   ]
  },
  {
   "cell_type": "markdown",
   "metadata": {},
   "source": [
    "## Running RF"
   ]
  },
  {
   "cell_type": "code",
   "execution_count": 53,
   "metadata": {},
   "outputs": [
    {
     "name": "stdout",
     "output_type": "stream",
     "text": [
      "Accurancy of RF classifier on training set: 0.97\n",
      "Accurancy of RF classifier on test set: 0.74\n"
     ]
    }
   ],
   "source": [
    "Xrf_train, Xrf_test, yrf_train, yrf_test = train_test_split(df_rf, df['category'])\n",
    "\n",
    "rf_clf = RandomForestClassifier().fit(Xrf_train, yrf_train)\n",
    "\n",
    "#Scores\n",
    "print(\"Accurancy of RF classifier on training set: {:.2f}\"\n",
    "     .format(rf_clf.score(Xrf_train, yrf_train)))\n",
    "print(\"Accurancy of RF classifier on test set: {:.2f}\"\n",
    "     .format(rf_clf.score(Xrf_test, yrf_test)))\n",
    "\n",
    "bip()"
   ]
  },
  {
   "cell_type": "markdown",
   "metadata": {},
   "source": [
    "# Construct the new df\n",
    "containing the 10.000 examples"
   ]
  },
  {
   "cell_type": "markdown",
   "metadata": {},
   "source": [
    "## Loading the new csv"
   ]
  },
  {
   "cell_type": "code",
   "execution_count": 61,
   "metadata": {},
   "outputs": [
    {
     "data": {
      "text/html": [
       "<div>\n",
       "<style>\n",
       "    .dataframe thead tr:only-child th {\n",
       "        text-align: right;\n",
       "    }\n",
       "\n",
       "    .dataframe thead th {\n",
       "        text-align: left;\n",
       "    }\n",
       "\n",
       "    .dataframe tbody tr th {\n",
       "        vertical-align: top;\n",
       "    }\n",
       "</style>\n",
       "<table border=\"1\" class=\"dataframe\">\n",
       "  <thead>\n",
       "    <tr style=\"text-align: right;\">\n",
       "      <th></th>\n",
       "      <th>Tweet ID</th>\n",
       "      <th>Followers</th>\n",
       "      <th>Follows</th>\n",
       "      <th>Retweets</th>\n",
       "      <th>Favorites</th>\n",
       "      <th>#@</th>\n",
       "    </tr>\n",
       "  </thead>\n",
       "  <tbody>\n",
       "    <tr>\n",
       "      <th>count</th>\n",
       "      <td>5.321300e+04</td>\n",
       "      <td>5.321300e+04</td>\n",
       "      <td>53213.000000</td>\n",
       "      <td>5.321300e+04</td>\n",
       "      <td>53213.000000</td>\n",
       "      <td>53213.000000</td>\n",
       "    </tr>\n",
       "    <tr>\n",
       "      <th>mean</th>\n",
       "      <td>8.589130e+17</td>\n",
       "      <td>6.715676e+03</td>\n",
       "      <td>1435.576551</td>\n",
       "      <td>3.700730e+02</td>\n",
       "      <td>0.012591</td>\n",
       "      <td>0.883543</td>\n",
       "    </tr>\n",
       "    <tr>\n",
       "      <th>std</th>\n",
       "      <td>1.946616e+13</td>\n",
       "      <td>1.253608e+05</td>\n",
       "      <td>8021.029229</td>\n",
       "      <td>6.783045e+03</td>\n",
       "      <td>0.162525</td>\n",
       "      <td>1.046478</td>\n",
       "    </tr>\n",
       "    <tr>\n",
       "      <th>min</th>\n",
       "      <td>8.588530e+17</td>\n",
       "      <td>0.000000e+00</td>\n",
       "      <td>0.000000</td>\n",
       "      <td>0.000000e+00</td>\n",
       "      <td>0.000000</td>\n",
       "      <td>0.000000</td>\n",
       "    </tr>\n",
       "    <tr>\n",
       "      <th>25%</th>\n",
       "      <td>8.588917e+17</td>\n",
       "      <td>1.590000e+02</td>\n",
       "      <td>181.000000</td>\n",
       "      <td>0.000000e+00</td>\n",
       "      <td>0.000000</td>\n",
       "      <td>0.000000</td>\n",
       "    </tr>\n",
       "    <tr>\n",
       "      <th>50%</th>\n",
       "      <td>8.589069e+17</td>\n",
       "      <td>4.330000e+02</td>\n",
       "      <td>397.000000</td>\n",
       "      <td>1.000000e+00</td>\n",
       "      <td>0.000000</td>\n",
       "      <td>1.000000</td>\n",
       "    </tr>\n",
       "    <tr>\n",
       "      <th>75%</th>\n",
       "      <td>8.589362e+17</td>\n",
       "      <td>1.106000e+03</td>\n",
       "      <td>873.000000</td>\n",
       "      <td>3.700000e+01</td>\n",
       "      <td>0.000000</td>\n",
       "      <td>1.000000</td>\n",
       "    </tr>\n",
       "    <tr>\n",
       "      <th>max</th>\n",
       "      <td>8.589523e+17</td>\n",
       "      <td>1.537104e+07</td>\n",
       "      <td>363364.000000</td>\n",
       "      <td>1.406432e+06</td>\n",
       "      <td>22.000000</td>\n",
       "      <td>13.000000</td>\n",
       "    </tr>\n",
       "  </tbody>\n",
       "</table>\n",
       "</div>"
      ],
      "text/plain": [
       "           Tweet ID     Followers        Follows      Retweets     Favorites  \\\n",
       "count  5.321300e+04  5.321300e+04   53213.000000  5.321300e+04  53213.000000   \n",
       "mean   8.589130e+17  6.715676e+03    1435.576551  3.700730e+02      0.012591   \n",
       "std    1.946616e+13  1.253608e+05    8021.029229  6.783045e+03      0.162525   \n",
       "min    8.588530e+17  0.000000e+00       0.000000  0.000000e+00      0.000000   \n",
       "25%    8.588917e+17  1.590000e+02     181.000000  0.000000e+00      0.000000   \n",
       "50%    8.589069e+17  4.330000e+02     397.000000  1.000000e+00      0.000000   \n",
       "75%    8.589362e+17  1.106000e+03     873.000000  3.700000e+01      0.000000   \n",
       "max    8.589523e+17  1.537104e+07  363364.000000  1.406432e+06     22.000000   \n",
       "\n",
       "                 #@  \n",
       "count  53213.000000  \n",
       "mean       0.883543  \n",
       "std        1.046478  \n",
       "min        0.000000  \n",
       "25%        0.000000  \n",
       "50%        1.000000  \n",
       "75%        1.000000  \n",
       "max       13.000000  "
      ]
     },
     "execution_count": 61,
     "metadata": {},
     "output_type": "execute_result"
    }
   ],
   "source": [
    "new_df = pd.read_csv('./first_round_depured.csv', sep=';', encoding='latin-1')\n",
    "new_df.describe()"
   ]
  },
  {
   "cell_type": "markdown",
   "metadata": {},
   "source": [
    "## Cleaning text"
   ]
  },
  {
   "cell_type": "code",
   "execution_count": 62,
   "metadata": {},
   "outputs": [],
   "source": [
    "new_df['clean-text'] = leave_only_letters(new_df['tweet-no-urls']);\n",
    "new_df['clean-text'] = remove_stop_words(new_df['clean-text']) \n",
    "new_df['clean-text'] = stem(new_df['clean-text'])\n",
    "bip()"
   ]
  },
  {
   "cell_type": "markdown",
   "metadata": {},
   "source": [
    "## Checking if allright"
   ]
  },
  {
   "cell_type": "code",
   "execution_count": 63,
   "metadata": {},
   "outputs": [
    {
     "data": {
      "text/html": [
       "<div>\n",
       "<style>\n",
       "    .dataframe thead tr:only-child th {\n",
       "        text-align: right;\n",
       "    }\n",
       "\n",
       "    .dataframe thead th {\n",
       "        text-align: left;\n",
       "    }\n",
       "\n",
       "    .dataframe tbody tr th {\n",
       "        vertical-align: top;\n",
       "    }\n",
       "</style>\n",
       "<table border=\"1\" class=\"dataframe\">\n",
       "  <thead>\n",
       "    <tr style=\"text-align: right;\">\n",
       "      <th></th>\n",
       "      <th>Date</th>\n",
       "      <th>Screen Name</th>\n",
       "      <th>Full Name</th>\n",
       "      <th>Tweet Text</th>\n",
       "      <th>Tweet ID</th>\n",
       "      <th>App</th>\n",
       "      <th>Followers</th>\n",
       "      <th>Follows</th>\n",
       "      <th>Retweets</th>\n",
       "      <th>Favorites</th>\n",
       "      <th>Verfied</th>\n",
       "      <th>User Since</th>\n",
       "      <th>Location</th>\n",
       "      <th>Bio</th>\n",
       "      <th>Google Maps</th>\n",
       "      <th>tweet-no-urls</th>\n",
       "      <th>rt?</th>\n",
       "      <th>#@</th>\n",
       "      <th>original</th>\n",
       "      <th>clean-text</th>\n",
       "    </tr>\n",
       "  </thead>\n",
       "  <tbody>\n",
       "  </tbody>\n",
       "</table>\n",
       "</div>"
      ],
      "text/plain": [
       "Empty DataFrame\n",
       "Columns: [Date, Screen Name, Full Name, Tweet Text, Tweet ID, App, Followers, Follows, Retweets, Favorites, Verfied, User Since, Location, Bio, Google Maps, tweet-no-urls, rt?, #@, original, clean-text]\n",
       "Index: []"
      ]
     },
     "execution_count": 63,
     "metadata": {},
     "output_type": "execute_result"
    }
   ],
   "source": [
    "new_df[new_df['clean-text'].isnull()]"
   ]
  },
  {
   "cell_type": "markdown",
   "metadata": {},
   "source": [
    "### Creating new X df"
   ]
  },
  {
   "cell_type": "code",
   "execution_count": 64,
   "metadata": {},
   "outputs": [],
   "source": [
    "Xnew = pd.DataFrame(index=new_df['Tweet ID'], columns=cpd[:1000].index)"
   ]
  },
  {
   "cell_type": "code",
   "execution_count": 95,
   "metadata": {},
   "outputs": [],
   "source": [
    "#Remove the :100\n",
    "new_df.sort_values('Tweet ID', inplace=True, ascending=True);\n",
    "Xnew.sort_index(inplace=True, ascending=True);\n",
    "\n",
    "Xnew[:100].apply(populator, axis=0, raw=False, df=new_df[:100], df_rf=Xnew);\n",
    "bip()"
   ]
  },
  {
   "cell_type": "code",
   "execution_count": 96,
   "metadata": {},
   "outputs": [
    {
     "data": {
      "text/html": [
       "<div>\n",
       "<style>\n",
       "    .dataframe thead tr:only-child th {\n",
       "        text-align: right;\n",
       "    }\n",
       "\n",
       "    .dataframe thead th {\n",
       "        text-align: left;\n",
       "    }\n",
       "\n",
       "    .dataframe tbody tr th {\n",
       "        vertical-align: top;\n",
       "    }\n",
       "</style>\n",
       "<table border=\"1\" class=\"dataframe\">\n",
       "  <thead>\n",
       "    <tr style=\"text-align: right;\">\n",
       "      <th></th>\n",
       "      <th>claudi</th>\n",
       "      <th>clau</th>\n",
       "      <th>claud</th>\n",
       "      <th>audi</th>\n",
       "      <th>claudialopez</th>\n",
       "      <th>lopez</th>\n",
       "      <th>petr</th>\n",
       "      <th>gust</th>\n",
       "      <th>gustav</th>\n",
       "      <th>juan</th>\n",
       "      <th>...</th>\n",
       "      <th>tont</th>\n",
       "      <th>williamfarfanm</th>\n",
       "      <th>beln</th>\n",
       "      <th>pierd</th>\n",
       "      <th>cafesalud</th>\n",
       "      <th>mald</th>\n",
       "      <th>danielrm</th>\n",
       "      <th>histori</th>\n",
       "      <th>adel</th>\n",
       "      <th>simontrinifarb</th>\n",
       "    </tr>\n",
       "    <tr>\n",
       "      <th>Tweet ID</th>\n",
       "      <th></th>\n",
       "      <th></th>\n",
       "      <th></th>\n",
       "      <th></th>\n",
       "      <th></th>\n",
       "      <th></th>\n",
       "      <th></th>\n",
       "      <th></th>\n",
       "      <th></th>\n",
       "      <th></th>\n",
       "      <th></th>\n",
       "      <th></th>\n",
       "      <th></th>\n",
       "      <th></th>\n",
       "      <th></th>\n",
       "      <th></th>\n",
       "      <th></th>\n",
       "      <th></th>\n",
       "      <th></th>\n",
       "      <th></th>\n",
       "      <th></th>\n",
       "    </tr>\n",
       "  </thead>\n",
       "  <tbody>\n",
       "    <tr>\n",
       "      <th>858853042841669632</th>\n",
       "      <td>True</td>\n",
       "      <td>True</td>\n",
       "      <td>True</td>\n",
       "      <td>True</td>\n",
       "      <td>True</td>\n",
       "      <td>True</td>\n",
       "      <td>False</td>\n",
       "      <td>False</td>\n",
       "      <td>False</td>\n",
       "      <td>False</td>\n",
       "      <td>...</td>\n",
       "      <td>False</td>\n",
       "      <td>False</td>\n",
       "      <td>False</td>\n",
       "      <td>False</td>\n",
       "      <td>False</td>\n",
       "      <td>False</td>\n",
       "      <td>False</td>\n",
       "      <td>False</td>\n",
       "      <td>False</td>\n",
       "      <td>False</td>\n",
       "    </tr>\n",
       "    <tr>\n",
       "      <th>858853209003225088</th>\n",
       "      <td>True</td>\n",
       "      <td>True</td>\n",
       "      <td>True</td>\n",
       "      <td>True</td>\n",
       "      <td>True</td>\n",
       "      <td>True</td>\n",
       "      <td>True</td>\n",
       "      <td>True</td>\n",
       "      <td>True</td>\n",
       "      <td>False</td>\n",
       "      <td>...</td>\n",
       "      <td>False</td>\n",
       "      <td>False</td>\n",
       "      <td>False</td>\n",
       "      <td>False</td>\n",
       "      <td>False</td>\n",
       "      <td>False</td>\n",
       "      <td>False</td>\n",
       "      <td>False</td>\n",
       "      <td>False</td>\n",
       "      <td>False</td>\n",
       "    </tr>\n",
       "    <tr>\n",
       "      <th>858853478529105921</th>\n",
       "      <td>True</td>\n",
       "      <td>True</td>\n",
       "      <td>True</td>\n",
       "      <td>True</td>\n",
       "      <td>True</td>\n",
       "      <td>True</td>\n",
       "      <td>False</td>\n",
       "      <td>False</td>\n",
       "      <td>False</td>\n",
       "      <td>False</td>\n",
       "      <td>...</td>\n",
       "      <td>False</td>\n",
       "      <td>False</td>\n",
       "      <td>False</td>\n",
       "      <td>False</td>\n",
       "      <td>False</td>\n",
       "      <td>False</td>\n",
       "      <td>False</td>\n",
       "      <td>False</td>\n",
       "      <td>False</td>\n",
       "      <td>False</td>\n",
       "    </tr>\n",
       "    <tr>\n",
       "      <th>858853695886413826</th>\n",
       "      <td>True</td>\n",
       "      <td>True</td>\n",
       "      <td>True</td>\n",
       "      <td>True</td>\n",
       "      <td>True</td>\n",
       "      <td>True</td>\n",
       "      <td>False</td>\n",
       "      <td>False</td>\n",
       "      <td>False</td>\n",
       "      <td>False</td>\n",
       "      <td>...</td>\n",
       "      <td>False</td>\n",
       "      <td>False</td>\n",
       "      <td>False</td>\n",
       "      <td>False</td>\n",
       "      <td>False</td>\n",
       "      <td>False</td>\n",
       "      <td>False</td>\n",
       "      <td>False</td>\n",
       "      <td>False</td>\n",
       "      <td>False</td>\n",
       "    </tr>\n",
       "    <tr>\n",
       "      <th>858853826543091714</th>\n",
       "      <td>True</td>\n",
       "      <td>True</td>\n",
       "      <td>True</td>\n",
       "      <td>True</td>\n",
       "      <td>True</td>\n",
       "      <td>True</td>\n",
       "      <td>False</td>\n",
       "      <td>False</td>\n",
       "      <td>False</td>\n",
       "      <td>False</td>\n",
       "      <td>...</td>\n",
       "      <td>False</td>\n",
       "      <td>False</td>\n",
       "      <td>False</td>\n",
       "      <td>False</td>\n",
       "      <td>False</td>\n",
       "      <td>False</td>\n",
       "      <td>False</td>\n",
       "      <td>False</td>\n",
       "      <td>False</td>\n",
       "      <td>False</td>\n",
       "    </tr>\n",
       "  </tbody>\n",
       "</table>\n",
       "<p>5 rows × 1000 columns</p>\n",
       "</div>"
      ],
      "text/plain": [
       "                   claudi  clau claud  audi claudialopez lopez   petr   gust  \\\n",
       "Tweet ID                                                                       \n",
       "858853042841669632   True  True  True  True         True  True  False  False   \n",
       "858853209003225088   True  True  True  True         True  True   True   True   \n",
       "858853478529105921   True  True  True  True         True  True  False  False   \n",
       "858853695886413826   True  True  True  True         True  True  False  False   \n",
       "858853826543091714   True  True  True  True         True  True  False  False   \n",
       "\n",
       "                   gustav   juan      ...         tont williamfarfanm   beln  \\\n",
       "Tweet ID                              ...                                      \n",
       "858853042841669632  False  False      ...        False          False  False   \n",
       "858853209003225088   True  False      ...        False          False  False   \n",
       "858853478529105921  False  False      ...        False          False  False   \n",
       "858853695886413826  False  False      ...        False          False  False   \n",
       "858853826543091714  False  False      ...        False          False  False   \n",
       "\n",
       "                    pierd cafesalud   mald danielrm histori   adel  \\\n",
       "Tweet ID                                                             \n",
       "858853042841669632  False     False  False    False   False  False   \n",
       "858853209003225088  False     False  False    False   False  False   \n",
       "858853478529105921  False     False  False    False   False  False   \n",
       "858853695886413826  False     False  False    False   False  False   \n",
       "858853826543091714  False     False  False    False   False  False   \n",
       "\n",
       "                   simontrinifarb  \n",
       "Tweet ID                           \n",
       "858853042841669632          False  \n",
       "858853209003225088          False  \n",
       "858853478529105921          False  \n",
       "858853695886413826          False  \n",
       "858853826543091714          False  \n",
       "\n",
       "[5 rows x 1000 columns]"
      ]
     },
     "execution_count": 96,
     "metadata": {},
     "output_type": "execute_result"
    }
   ],
   "source": [
    "Xnew.head()"
   ]
  },
  {
   "cell_type": "markdown",
   "metadata": {},
   "source": [
    "### Checking if there is any NAN"
   ]
  },
  {
   "cell_type": "code",
   "execution_count": 97,
   "metadata": {},
   "outputs": [
    {
     "data": {
      "text/html": [
       "<div>\n",
       "<style>\n",
       "    .dataframe thead tr:only-child th {\n",
       "        text-align: right;\n",
       "    }\n",
       "\n",
       "    .dataframe thead th {\n",
       "        text-align: left;\n",
       "    }\n",
       "\n",
       "    .dataframe tbody tr th {\n",
       "        vertical-align: top;\n",
       "    }\n",
       "</style>\n",
       "<table border=\"1\" class=\"dataframe\">\n",
       "  <thead>\n",
       "    <tr style=\"text-align: right;\">\n",
       "      <th></th>\n",
       "      <th>claudi</th>\n",
       "      <th>clau</th>\n",
       "      <th>claud</th>\n",
       "      <th>audi</th>\n",
       "      <th>claudialopez</th>\n",
       "      <th>lopez</th>\n",
       "      <th>petr</th>\n",
       "      <th>gust</th>\n",
       "      <th>gustav</th>\n",
       "      <th>juan</th>\n",
       "      <th>...</th>\n",
       "      <th>tont</th>\n",
       "      <th>williamfarfanm</th>\n",
       "      <th>beln</th>\n",
       "      <th>pierd</th>\n",
       "      <th>cafesalud</th>\n",
       "      <th>mald</th>\n",
       "      <th>danielrm</th>\n",
       "      <th>histori</th>\n",
       "      <th>adel</th>\n",
       "      <th>simontrinifarb</th>\n",
       "    </tr>\n",
       "    <tr>\n",
       "      <th>Tweet ID</th>\n",
       "      <th></th>\n",
       "      <th></th>\n",
       "      <th></th>\n",
       "      <th></th>\n",
       "      <th></th>\n",
       "      <th></th>\n",
       "      <th></th>\n",
       "      <th></th>\n",
       "      <th></th>\n",
       "      <th></th>\n",
       "      <th></th>\n",
       "      <th></th>\n",
       "      <th></th>\n",
       "      <th></th>\n",
       "      <th></th>\n",
       "      <th></th>\n",
       "      <th></th>\n",
       "      <th></th>\n",
       "      <th></th>\n",
       "      <th></th>\n",
       "      <th></th>\n",
       "    </tr>\n",
       "  </thead>\n",
       "  <tbody>\n",
       "  </tbody>\n",
       "</table>\n",
       "<p>0 rows × 1000 columns</p>\n",
       "</div>"
      ],
      "text/plain": [
       "Empty DataFrame\n",
       "Columns: [claudi, clau, claud, audi, claudialopez, lopez, petr, gust, gustav, juan, petrogu, petrogustav, robl, robled, sant, colom, colomb, colombi, fajard, enriqu, urib, mont, jerobl, jerobled, serg, sergi, dani, daniel, uste, sergiofajard, radi, sergiof, vickydavilah, vicky, usted, jaja, ment, jajaj, samp, penal, enriquepen, enriquep, enriquepenal, quepen, part, ador, quier, cuest, lvar, samper, alvar, navarr, democr, tierr, farc, seor, verd, ficogutierrez, danielsamper, polt, wolf, corr, navarrowolff, jajaja, navarrowol, poltic, encu, habl, navarrowolf, anti, rent, jajajaj, ajajaj, mism, port, encuest, gomez, rour, alvarourib, alvarouribev, alvarouribevel, cnecolombi, cnecolomb, democrat, mari, mart, montoy, juanmansant, corru, popul, corrup, pues, clar, grit, peal, varg, ivan, acas, izquierd, espe, ...]\n",
       "Index: []\n",
       "\n",
       "[0 rows x 1000 columns]"
      ]
     },
     "execution_count": 97,
     "metadata": {},
     "output_type": "execute_result"
    }
   ],
   "source": [
    "Xnew[:100][Xnew[:100].isnull().any(axis=1)]"
   ]
  },
  {
   "cell_type": "markdown",
   "metadata": {},
   "source": [
    "### Select the first 3750 entries (they are already sorted randomly)"
   ]
  },
  {
   "cell_type": "code",
   "execution_count": 164,
   "metadata": {},
   "outputs": [],
   "source": [
    "prediction_rf = pd.DataFrame(index=Xnew[:100].index, data=rf_clf.predict_proba(Xnew[:100]));\n",
    "new_training_df = prediction_rf[(prediction_rf >= 0.9).any(axis=1)].sample(frac=1)[:3750]"
   ]
  },
  {
   "cell_type": "markdown",
   "metadata": {},
   "source": [
    "### Creating `Ynew`"
   ]
  },
  {
   "cell_type": "code",
   "execution_count": 166,
   "metadata": {},
   "outputs": [
    {
     "data": {
      "text/plain": [
       "Tweet ID\n",
       "858860347213705216    0\n",
       "858854298200965121    0\n",
       "858855127914086400    0\n",
       "858864713991692289    0\n",
       "858862159668891648    0\n",
       "Name: 1, dtype: int64"
      ]
     },
     "execution_count": 166,
     "metadata": {},
     "output_type": "execute_result"
    }
   ],
   "source": [
    "Ynew = pd.Series(index=new_training_df.index, data=new_training_df[1]);\n",
    "Ynew = Ynew.apply(lambda x : 1 if x > 0.9 else 0)\n",
    "Ynew.head()"
   ]
  },
  {
   "cell_type": "markdown",
   "metadata": {},
   "source": [
    "# Creating df_svm and y_svm (with around 10.000 examples)"
   ]
  },
  {
   "cell_type": "code",
   "execution_count": 187,
   "metadata": {},
   "outputs": [],
   "source": [
    "df_svm = df_rf.append(Xnew[Xnew.index.isin(Ynew.index)]);\n",
    "y_svm = pd.Series(data=df['category'])\n",
    "y_svm.index = df['Tweet ID']\n",
    "y_svm = y_svm.append(Ynew)"
   ]
  },
  {
   "cell_type": "markdown",
   "metadata": {},
   "source": [
    "# SVM\n",
    "Run a svm algorithm on the 10.000 examples dataframe"
   ]
  },
  {
   "cell_type": "markdown",
   "metadata": {},
   "source": [
    "### Checking if there is any NaN"
   ]
  },
  {
   "cell_type": "code",
   "execution_count": 189,
   "metadata": {},
   "outputs": [
    {
     "data": {
      "text/plain": [
       "Series([], dtype: int64)"
      ]
     },
     "execution_count": 189,
     "metadata": {},
     "output_type": "execute_result"
    }
   ],
   "source": [
    "y_svm[y_svm.isnull()]"
   ]
  },
  {
   "cell_type": "code",
   "execution_count": 192,
   "metadata": {},
   "outputs": [
    {
     "name": "stdout",
     "output_type": "stream",
     "text": [
      "Accuracy of SVC classifier on training set: 0.71\n",
      "Accuracy of SVC classifier on test set: 0.68\n"
     ]
    }
   ],
   "source": [
    "Xsvm_train, Xsvm_test, ysvm_train, ysvm_test = train_test_split(df_svm, y_svm)\n",
    "\n",
    "clf_svm = SVC().fit(Xsvm_train, ysvm_train)\n",
    "bip()\n",
    "\n",
    "print('Accuracy of SVC classifier on training set: {:.2f}'\n",
    "     .format(clf_svm.score(Xsvm_train, ysvm_train)))\n",
    "print('Accuracy of SVC classifier on test set: {:.2f}'\n",
    "     .format(clf_svm.score(Xsvm_test, ysvm_test)))"
   ]
  },
  {
   "cell_type": "code",
   "execution_count": null,
   "metadata": {
    "collapsed": true
   },
   "outputs": [],
   "source": []
  }
 ],
 "metadata": {
  "kernelspec": {
   "display_name": "Python 3",
   "language": "python",
   "name": "python3"
  }
 },
 "nbformat": 4,
 "nbformat_minor": 2
}
