{
 "cells": [
  {
   "cell_type": "markdown",
   "metadata": {},
   "source": [
    "# Run only once"
   ]
  },
  {
   "cell_type": "code",
   "execution_count": 92,
   "metadata": {},
   "outputs": [],
   "source": [
    "import pandas as pd\n",
    "import nltk\n",
    "from sklearn.model_selection import train_test_split\n",
    "from sklearn.feature_extraction.text import CountVectorizer, TfidfVectorizer\n",
    "from sklearn.ensemble import RandomForestClassifier"
   ]
  },
  {
   "cell_type": "markdown",
   "metadata": {},
   "source": [
    "# Necessary Functions"
   ]
  },
  {
   "cell_type": "code",
   "execution_count": 183,
   "metadata": {
    "collapsed": true
   },
   "outputs": [],
   "source": [
    "def leave_only_letters(series):\n",
    "    #changing emojis\n",
    "    #TODO\n",
    "    \n",
    "    #Removing puntuation\n",
    "    series = series.str.lower().str.replace(r'[^a-zA-Z ]+','') \\\n",
    "        .str.replace(r' {2,}',' ')\n",
    "        \n",
    "    #Removing digits\n",
    "    series = series.str.replace(r'\\dx','')\n",
    "    \n",
    "    #Removing accents\n",
    "    series = series.str.replace(r'á|à','a') \\\n",
    "        .str.replace(r'é|è','e') \\\n",
    "        .str.replace(r'í|ì','i') \\\n",
    "        .str.replace(r'ó|ò','o') \\\n",
    "        .str.replace(r'ú|ù','u')\n",
    "        \n",
    "    return series"
   ]
  },
  {
   "cell_type": "markdown",
   "metadata": {},
   "source": [
    "# Loading files"
   ]
  },
  {
   "cell_type": "code",
   "execution_count": 184,
   "metadata": {},
   "outputs": [],
   "source": [
    "df = pd.read_csv('tweets.csv', encoding='latin-1', sep=';', usecols=['Tweet ID', 'tweet text', 'Positive for CL? 1=Yes, 0=No'], index_col=0)\n",
    "df = df.rename(columns={'Positive for CL? 1=Yes, 0=No': 'category', 'tweet text': 'tweet'})"
   ]
  },
  {
   "cell_type": "code",
   "execution_count": 185,
   "metadata": {},
   "outputs": [],
   "source": [
    "df['tweet'] = leave_only_letters(df['tweet'])"
   ]
  },
  {
   "cell_type": "code",
   "execution_count": 186,
   "metadata": {},
   "outputs": [
    {
     "data": {
      "text/plain": [
       "Tweet ID\n",
       "868212518879211000    jorgepatarroyo claudialopez aquel que lucha co...\n",
       "869654185729556000    rt perrofantasmabo wradiocolombia claudialopez...\n",
       "868675105613860000    camilabaron galloalex chaveztrump vickydavilah...\n",
       "869654122408136000    wradiocolombia claudialopez las confiscadas af...\n",
       "867892970594467000    andresdiaz laluciernaga dianacalderonf hora cl...\n",
       "867580682960351000    rt claudialopez cinismo uribista volver perseg...\n",
       "869952317088518000    josephralph claudialopez las uribestialidades ...\n",
       "867859946389602000    juankortiz johnherd caracolradio claudialopez ...\n",
       "870145530600583000    thrino castroedwinc jeisonlubo emaumor claudia...\n",
       "869986124059598000    rt alexa claudialopez se las da de pulcra de h...\n",
       "870331912727937000    crodzmart ricardog mateogqsg claudialopez el e...\n",
       "870722234586943000    tatiannarive ginachef leer que claudialopez y ...\n",
       "867942017908846000    claudialopez cuando leo estos comentarios no s...\n",
       "867770966620995000    claudialopez disculpen pero poltico es poltico...\n",
       "869410304467365000    rt ce juanrealdc claudialopez que buena candid...\n",
       "870861564555010000    claudialopez senadora con cario y admiracin le...\n",
       "870827252262588000      ernestocortes claudialopez falta uno y escuchar\n",
       "868130850201894000    vickydavilah claudialopez cuanto te estan paga...\n",
       "867934495273615000    marcha docentes claudialopez laluciernaga petr...\n",
       "870452133774196000    dejealguito queesperanza junasu navarrowolff p...\n",
       "870734533511045000    daniduqueg claudialopez no creo que una person...\n",
       "867562939473178000    claudialopez q manera burda d subestimar a col...\n",
       "870617836531658000    ophcourse patton easytaxicol claudialopez ange...\n",
       "870499669507309000    jerobledo claudialopez sergiofajardo navarrowo...\n",
       "867938894553030000    claudialopez ja ja ja la corrupta anticorrupci...\n",
       "870242105972727000    claudialopez dra con los buenos dias yo espero...\n",
       "868275089661407000    claudialopez en usted veo la verdad utopica de...\n",
       "870331618287919000              srcristianr claudialopez no s lo merece\n",
       "870483418450198000    pierrehemingway claudialopez enriquepenalosa i...\n",
       "867895595465416000    claudialopez sos mi presidenta a punta de encu...\n",
       "                                            ...                        \n",
       "871018309382221000    andresfrnandez williamfarfanmo claudialopez en...\n",
       "867898396312469000    claudialopez populista aprovechndose del dolor...\n",
       "867576052410970000    claudialopez oportunista faltan tres debates d...\n",
       "867947213799833000    arminurrego oficialhassam petrogustavo claralo...\n",
       "869728872023064000    arianaaladin claudialopez seorita debes leer y...\n",
       "871395409297629000        oye claudialopez todava guardas esa camiseta \n",
       "867773548106051000    claudialopez la senadora claudia es una mujer ...\n",
       "869773025515888000    rt felipecubilloss arianaaladin claudialopez u...\n",
       "869357556212391000    rt fvalenciadovale fabioplaza claudialopez sob...\n",
       "871063387572244000    huitzi claudialopez usted lo ha dicho en qu pa...\n",
       "868261357203992000    rt claudialopez gracias mi corazn abrazo a tod...\n",
       "869525987255504000    rt claudialopez deprimir el consumo sacndo bil...\n",
       "868169797032390000    claudialopez partidoverdecol la unica forma de...\n",
       "867809493643661000    soalja claudialopez el q pongan no va servir d...\n",
       "869163785898086000    cmilanoticia el gran hombresamperista q nos va...\n",
       "867841313194037000    claudialopez juanka cmo estar de al revs las c...\n",
       "869199170552422000    rt claudialopez encuestas con resultados disti...\n",
       "871751832221212000    claudialopez gurozu todo lo que se dice y hace...\n",
       "870735436360101000    sacrificarn claudialopez gajaramillo navarrowo...\n",
       "867731609272934000    claudialopez enriquepenalosa se quiere comer l...\n",
       "869954867502120000    claudialopez tras votos bandose de parranda re...\n",
       "868958887323553000    rt claudialopez avanzamos con compromisarios p...\n",
       "868104161375772000    claudialopez est como german vargas ignor la p...\n",
       "871098128904192000    coldesdeafuera jerobledo claudialopez sergiofa...\n",
       "868070317763297000    rt judithsants claudialopez gracias al cedemoc...\n",
       "867782343670599000    sebastianrg juanri jeandradec gabrielsepm clau...\n",
       "870303189702242000    claudialopez hablan mucho pero ejecutan poco n...\n",
       "871162838097776000    claudialopez si ve que en el arca hay parejas ...\n",
       "867796388431753000    claudialopez para ustedes es imparable pero la...\n",
       "868459101243703000    petrochelydavid tatatheicon claudialopez gente...\n",
       "Name: tweet, Length: 6250, dtype: object"
      ]
     },
     "execution_count": 186,
     "metadata": {},
     "output_type": "execute_result"
    }
   ],
   "source": [
    "df['tweet']"
   ]
  },
  {
   "cell_type": "code",
   "execution_count": 187,
   "metadata": {},
   "outputs": [
    {
     "data": {
      "text/html": [
       "<div>\n",
       "<style>\n",
       "    .dataframe thead tr:only-child th {\n",
       "        text-align: right;\n",
       "    }\n",
       "\n",
       "    .dataframe thead th {\n",
       "        text-align: left;\n",
       "    }\n",
       "\n",
       "    .dataframe tbody tr th {\n",
       "        vertical-align: top;\n",
       "    }\n",
       "</style>\n",
       "<table border=\"1\" class=\"dataframe\">\n",
       "  <thead>\n",
       "    <tr style=\"text-align: right;\">\n",
       "      <th></th>\n",
       "      <th>category</th>\n",
       "    </tr>\n",
       "  </thead>\n",
       "  <tbody>\n",
       "    <tr>\n",
       "      <th>count</th>\n",
       "      <td>6250.000000</td>\n",
       "    </tr>\n",
       "    <tr>\n",
       "      <th>mean</th>\n",
       "      <td>0.301760</td>\n",
       "    </tr>\n",
       "    <tr>\n",
       "      <th>std</th>\n",
       "      <td>0.459058</td>\n",
       "    </tr>\n",
       "    <tr>\n",
       "      <th>min</th>\n",
       "      <td>0.000000</td>\n",
       "    </tr>\n",
       "    <tr>\n",
       "      <th>25%</th>\n",
       "      <td>0.000000</td>\n",
       "    </tr>\n",
       "    <tr>\n",
       "      <th>50%</th>\n",
       "      <td>0.000000</td>\n",
       "    </tr>\n",
       "    <tr>\n",
       "      <th>75%</th>\n",
       "      <td>1.000000</td>\n",
       "    </tr>\n",
       "    <tr>\n",
       "      <th>max</th>\n",
       "      <td>1.000000</td>\n",
       "    </tr>\n",
       "  </tbody>\n",
       "</table>\n",
       "</div>"
      ],
      "text/plain": [
       "          category\n",
       "count  6250.000000\n",
       "mean      0.301760\n",
       "std       0.459058\n",
       "min       0.000000\n",
       "25%       0.000000\n",
       "50%       0.000000\n",
       "75%       1.000000\n",
       "max       1.000000"
      ]
     },
     "execution_count": 187,
     "metadata": {},
     "output_type": "execute_result"
    }
   ],
   "source": [
    "df.describe()"
   ]
  },
  {
   "cell_type": "markdown",
   "metadata": {},
   "source": [
    "## Spliting set"
   ]
  },
  {
   "cell_type": "raw",
   "metadata": {},
   "source": [
    "X_train, X_test, y_train, y_test = train_test_split(df['tweet'], df['category'])"
   ]
  },
  {
   "cell_type": "markdown",
   "metadata": {},
   "source": [
    "## Feature vector"
   ]
  },
  {
   "cell_type": "markdown",
   "metadata": {},
   "source": [
    "### Method 1 (no feature extraction method)"
   ]
  },
  {
   "cell_type": "code",
   "execution_count": 188,
   "metadata": {},
   "outputs": [
    {
     "data": {
      "text/plain": [
       "2117"
      ]
     },
     "execution_count": 188,
     "metadata": {},
     "output_type": "execute_result"
    }
   ],
   "source": [
    "vect = CountVectorizer(\n",
    "    strip_accents='unicode', \n",
    "    analyzer='word', \n",
    "    ngram_range=(1,3),\n",
    "    stop_words=nltk.corpus.stopwords.words('spanish'),\n",
    "    lowercase=True,\n",
    "    min_df=0.001\n",
    ").fit(X_train)\n",
    "len(vect.get_feature_names())"
   ]
  },
  {
   "cell_type": "code",
   "execution_count": 189,
   "metadata": {},
   "outputs": [
    {
     "data": {
      "text/plain": [
       "['000',\n",
       " '085aaa7125124f3',\n",
       " '085aaa7125124f3 claudialopez',\n",
       " '085aaa7125124f3 claudialopez ficogutierrez',\n",
       " '085aaa7125124f3 mafezinha86',\n",
       " '085aaa7125124f3 mafezinha86 claudialopez',\n",
       " '10',\n",
       " '100',\n",
       " '12',\n",
       " '13']"
      ]
     },
     "execution_count": 189,
     "metadata": {},
     "output_type": "execute_result"
    }
   ],
   "source": [
    "vect.get_feature_names()[:10]"
   ]
  },
  {
   "cell_type": "markdown",
   "metadata": {},
   "source": [
    "### Method 2 (tf-idf)"
   ]
  },
  {
   "cell_type": "code",
   "execution_count": 190,
   "metadata": {},
   "outputs": [
    {
     "data": {
      "text/plain": [
       "2117"
      ]
     },
     "execution_count": 190,
     "metadata": {},
     "output_type": "execute_result"
    }
   ],
   "source": [
    "vect = TfidfVectorizer(\n",
    "    strip_accents='unicode', \n",
    "    analyzer='word', \n",
    "    ngram_range=(1,3),\n",
    "    stop_words=nltk.corpus.stopwords.words('spanish'),\n",
    "    lowercase=True,\n",
    "    min_df=0.001,\n",
    ").fit(X_train)\n",
    "\n",
    "len(vect.get_feature_names())"
   ]
  },
  {
   "cell_type": "code",
   "execution_count": 191,
   "metadata": {},
   "outputs": [
    {
     "data": {
      "text/plain": [
       "['000',\n",
       " '085aaa7125124f3',\n",
       " '085aaa7125124f3 claudialopez',\n",
       " '085aaa7125124f3 claudialopez ficogutierrez',\n",
       " '085aaa7125124f3 mafezinha86',\n",
       " '085aaa7125124f3 mafezinha86 claudialopez',\n",
       " '10',\n",
       " '100',\n",
       " '12',\n",
       " '13']"
      ]
     },
     "execution_count": 191,
     "metadata": {},
     "output_type": "execute_result"
    }
   ],
   "source": [
    "vect.get_feature_names()[:10]"
   ]
  },
  {
   "cell_type": "markdown",
   "metadata": {},
   "source": [
    "## Creating the vector traning examples (Op 1)"
   ]
  },
  {
   "cell_type": "code",
   "execution_count": 192,
   "metadata": {
    "collapsed": true
   },
   "outputs": [],
   "source": [
    "X_train_vector = vect.transform(X_train)\n",
    "X_test_vector = vect.transform(X_test)"
   ]
  },
  {
   "cell_type": "code",
   "execution_count": 193,
   "metadata": {},
   "outputs": [
    {
     "data": {
      "text/plain": [
       "<4687x2117 sparse matrix of type '<class 'numpy.float64'>'\n",
       "\twith 37795 stored elements in Compressed Sparse Row format>"
      ]
     },
     "execution_count": 193,
     "metadata": {},
     "output_type": "execute_result"
    }
   ],
   "source": [
    "X_train_vector"
   ]
  },
  {
   "cell_type": "markdown",
   "metadata": {},
   "source": [
    "# Random Forest"
   ]
  },
  {
   "cell_type": "code",
   "execution_count": 194,
   "metadata": {},
   "outputs": [],
   "source": [
    "rf_csf = RandomForestClassifier().fit(X_train_vector, y_train)"
   ]
  },
  {
   "cell_type": "code",
   "execution_count": 195,
   "metadata": {},
   "outputs": [
    {
     "name": "stdout",
     "output_type": "stream",
     "text": [
      "Score in training set: 0.968423\n",
      "Score in test set: 0.747281\n"
     ]
    }
   ],
   "source": [
    "print(\"Score in training set: %f\" % rf_csf.score(X_train_vector, y_train))\n",
    "print(\"Score in test set: %f\" % rf_csf.score(X_test_vector, y_test))"
   ]
  },
  {
   "cell_type": "code",
   "execution_count": null,
   "metadata": {
    "collapsed": true
   },
   "outputs": [],
   "source": []
  },
  {
   "cell_type": "code",
   "execution_count": null,
   "metadata": {
    "collapsed": true
   },
   "outputs": [],
   "source": []
  }
 ],
 "metadata": {
  "kernelspec": {
   "display_name": "Python 3",
   "language": "python",
   "name": "python3"
  },
  "language_info": {
   "codemirror_mode": {
    "name": "ipython",
    "version": 3
   },
   "file_extension": ".py",
   "mimetype": "text/x-python",
   "name": "python",
   "nbconvert_exporter": "python",
   "pygments_lexer": "ipython3",
   "version": "3.5.2"
  }
 },
 "nbformat": 4,
 "nbformat_minor": 2
}
